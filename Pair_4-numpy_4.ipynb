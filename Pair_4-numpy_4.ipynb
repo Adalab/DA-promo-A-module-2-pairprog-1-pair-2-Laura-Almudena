{
 "cells": [
  {
   "cell_type": "code",
   "execution_count": 3,
   "metadata": {},
   "outputs": [],
   "source": [
    "import numpy as np"
   ]
  },
  {
   "cell_type": "code",
   "execution_count": 4,
   "metadata": {},
   "outputs": [
    {
     "name": "stdout",
     "output_type": "stream",
     "text": [
      "[[0.41715793 0.46633146]\n",
      " [0.59737795 0.69467278]\n",
      " [0.06385881 0.96151246]]\n",
      "[[0.41715793 0.46633146]\n",
      " [0.59737795 0.69467278]\n",
      " [0.06385881 0.96151246]]\n"
     ]
    }
   ],
   "source": [
    "# crear dos array con random_sample y que tengan los mismos valores\n",
    "array = np.random.random_sample((3,2))\n",
    "print(array)\n",
    "\n",
    "array_copy = array.copy()\n",
    "print(array_copy)"
   ]
  },
  {
   "cell_type": "code",
   "execution_count": 5,
   "metadata": {},
   "outputs": [
    {
     "name": "stdout",
     "output_type": "stream",
     "text": [
      "[[[1.1 0.5 4.5 5.5 5.8]\n",
      "  [2.8 2.  8.4 0.5 4. ]\n",
      "  [6.6 6.7 2.6 4.2 2.5]]\n",
      "\n",
      " [[7.9 8.5 5.1 2.6 4.6]\n",
      "  [8.9 6.9 7.  6.8 2.8]\n",
      "  [6.8 8.9 4.2 7.2 2.3]]]\n",
      "[0.5 1.1 2.  2.3 2.5 2.6 2.8 4.  4.2 4.5 4.6 5.1 5.5 5.8 6.6 6.7 6.8 6.9\n",
      " 7.  7.2 7.9 8.4 8.5 8.9]\n"
     ]
    }
   ],
   "source": [
    "# crear array de 3 dimensiones, 2x3x5, sin decimales y entre 0-10; extrae sus valores únicos guardándolo en una variable\n",
    "array_uniform = np.random.uniform(0,10, (2,3,5)).round(1)\n",
    "print(array_uniform)\n",
    "\n",
    "valores_unicos = np.unique(array_uniform)\n",
    "print(valores_unicos)"
   ]
  },
  {
   "cell_type": "code",
   "execution_count": 6,
   "metadata": {},
   "outputs": [
    {
     "name": "stdout",
     "output_type": "stream",
     "text": [
      "[[[1 5 1 4 3]\n",
      "  [2 3 4 1 4]\n",
      "  [3 4 3 3 2]]\n",
      "\n",
      " [[2 3 3 4 4]\n",
      "  [2 3 3 1 2]\n",
      "  [2 1 1 1 3]]]\n",
      "[0.5 1.1 2.  2.3 2.5 2.6 2.8 4.  4.2 4.5 4.6 5.1 5.5 5.8 6.6 6.7 6.8 6.9\n",
      " 7.  7.2 7.9 8.4 8.5 8.9]\n"
     ]
    }
   ],
   "source": [
    "# crear array de 3 dimensiones, 2x3x5, con probabilidad 0.3 y nº pruebas = 10; guarda los valores únicos en una variable\n",
    "array_binomial = np.random.binomial(10, 0.3, (2,3,5))\n",
    "print(array_binomial)\n",
    "\n",
    "valores_unicos_2 = np.unique(array_binomial)\n",
    "print(valores_unicos)"
   ]
  },
  {
   "cell_type": "code",
   "execution_count": 7,
   "metadata": {},
   "outputs": [
    {
     "name": "stdout",
     "output_type": "stream",
     "text": [
      "[2. 4.]\n"
     ]
    }
   ],
   "source": [
    "# elementos comunes entre valores únicos de array3 y array4\n",
    "elementos_comunes = np.intersect1d(valores_unicos, valores_unicos_2)\n",
    "print(elementos_comunes)"
   ]
  },
  {
   "cell_type": "code",
   "execution_count": 8,
   "metadata": {},
   "outputs": [
    {
     "name": "stdout",
     "output_type": "stream",
     "text": [
      "[0.5 1.  1.1 2.  2.3 2.5 2.6 2.8 3.  4.  4.2 4.5 4.6 5.  5.1 5.5 5.8 6.6\n",
      " 6.7 6.8 6.9 7.  7.2 7.9 8.4 8.5 8.9]\n"
     ]
    }
   ],
   "source": [
    "# unión de elementos únicos de array3 y array4\n",
    "union = np.union1d(valores_unicos, valores_unicos_2)\n",
    "print(union)"
   ]
  },
  {
   "cell_type": "code",
   "execution_count": 9,
   "metadata": {},
   "outputs": [
    {
     "name": "stdout",
     "output_type": "stream",
     "text": [
      "[0.5 1.1 2.3 2.5 2.6 2.8 4.2 4.5 4.6 5.1 5.5 5.8 6.6 6.7 6.8 6.9 7.  7.2\n",
      " 7.9 8.4 8.5 8.9]\n"
     ]
    }
   ],
   "source": [
    "# ¿Qué elementos están en el array derivado de la distribución uniforme y no en los únicos de la distribución binomial? Extrae los valores númericos\n",
    "diferencia = np.setdiff1d(valores_unicos, valores_unicos_2)\n",
    "print(diferencia)"
   ]
  },
  {
   "cell_type": "code",
   "execution_count": 10,
   "metadata": {},
   "outputs": [
    {
     "name": "stdout",
     "output_type": "stream",
     "text": [
      "[83 14  9 10 97 91 68 35 89 20 32 92 11 66 35 61 25  7 74 74 94 68 51 67\n",
      " 72 96 79 52 28 44  4  0 12 82 38 29 64  3 86 61 92 15  3 96 18 22 35 54\n",
      " 99 28 79 23 52 81 40 66 23 12 71 13 35 10 60 67 77 72 90  5  3 48 30 90\n",
      "  2 10 23 90 82 95 92 78]\n",
      "[12 72 53 40 86  6 67 36 28 70 54  1 69 88 13 63 63 61 33 98 90 84 55 50\n",
      " 83 75 48 53 21 84 27 75 27  3  0 89  9 31  0 23 34  1 68 65  4 57 66 32\n",
      " 16 89 33 33 87 18 59 21 37 20 22 67 91 68 30 97 73 53 69 82 19 48 37 31\n",
      " 54  5 36 13 42 76 19 75]\n"
     ]
    }
   ],
   "source": [
    "# crear dos arrays usando random.rand con 80 elementos, nº entre 1-100\n",
    "array1 = np.random.randint(0,100, (80))\n",
    "print(array1)\n",
    "\n",
    "array2 = np.random.randint(0, 100, (80))\n",
    "print(array2)"
   ]
  },
  {
   "cell_type": "code",
   "execution_count": 11,
   "metadata": {},
   "outputs": [
    {
     "name": "stdout",
     "output_type": "stream",
     "text": [
      "[ 0  2  3  4  5  7  9 10 11 12 13 14 15 18 20 22 23 25 28 29 30 32 35 38\n",
      " 40 44 48 51 52 54 60 61 64 66 67 68 71 72 74 77 78 79 81 82 83 86 89 90\n",
      " 91 92 94 95 96 97 99]\n",
      "[ 0  1  3  4  5  6  9 12 13 16 18 19 20 21 22 23 27 28 30 31 32 33 34 36\n",
      " 37 40 42 48 50 53 54 55 57 59 61 63 65 66 67 68 69 70 72 73 75 76 82 83\n",
      " 84 86 87 88 89 90 91 97 98]\n"
     ]
    }
   ],
   "source": [
    "# Extraed los valores únicos de cada uno de los arrays y los guardáis en variables en las que se les llame array1 y array2\n",
    "array1 = np.unique(array1)\n",
    "print(array1)\n",
    "\n",
    "array2 = np.unique(array2)\n",
    "print(array2)"
   ]
  },
  {
   "cell_type": "code",
   "execution_count": 12,
   "metadata": {},
   "outputs": [
    {
     "name": "stdout",
     "output_type": "stream",
     "text": [
      "[ 2  7 10 11 14 15 25 29 35 38 44 51 52 60 64 71 74 77 78 79 81 92 94 95\n",
      " 96 99]\n"
     ]
    }
   ],
   "source": [
    "# Identificad los elementos presentes en el array1 pero no en el array2 y asiganarlo a una variable que se llame array3\n",
    "array3 = np.setdiff1d(array1, array2)\n",
    "print(array3)"
   ]
  },
  {
   "cell_type": "code",
   "execution_count": 13,
   "metadata": {},
   "outputs": [
    {
     "name": "stdout",
     "output_type": "stream",
     "text": [
      "[ 1  6 16 19 21 27 31 33 34 36 37 42 50 53 55 57 59 63 65 69 70 73 75 76\n",
      " 84 87 88 98]\n"
     ]
    }
   ],
   "source": [
    "# Identificad los elementos presentes en el array2 pero no en el array1 y asiganarlo a una variable que se llame array4\n",
    "array4 = np.setdiff1d(array2, array1)\n",
    "print(array4)"
   ]
  },
  {
   "cell_type": "code",
   "execution_count": 14,
   "metadata": {},
   "outputs": [
    {
     "name": "stdout",
     "output_type": "stream",
     "text": [
      "[ 0  3  4  5  9 12 13 18 20 22 23 28 30 32 40 48 54 61 66 67 68 72 82 83\n",
      " 86 89 90 91 97]\n"
     ]
    }
   ],
   "source": [
    "# Identificad los elementos presentes en ambos arrays y asiganarlos a una variable que se llame array5\n",
    "array5 = np.intersect1d(array1, array2)\n",
    "print(array5)"
   ]
  },
  {
   "cell_type": "code",
   "execution_count": 17,
   "metadata": {},
   "outputs": [
    {
     "name": "stdout",
     "output_type": "stream",
     "text": [
      "55\n",
      "57\n",
      "26\n",
      "28\n",
      "29\n",
      "True\n"
     ]
    }
   ],
   "source": [
    "# ¿Cuál es la relación que existe entre todos estos arrays?\n",
    "forma_1 = len(array1)\n",
    "print(forma_1)\n",
    "\n",
    "forma_2 = len(array2)\n",
    "print(forma_2)\n",
    "\n",
    "forma_3 = len(array3)\n",
    "print(forma_3)\n",
    "\n",
    "forma_4 = len(array4)\n",
    "print(forma_4)\n",
    "\n",
    "forma_5 = len(array5)\n",
    "print(forma_5)\n",
    "\n",
    "print(len(array1) + len(array4) - len(array5)  == len(array2) + len(array3) - len(array5))"
   ]
  }
 ],
 "metadata": {
  "interpreter": {
   "hash": "9df72549cec875d35faaa50875d444b10c11452b268975a17c9dc6870f43870f"
  },
  "kernelspec": {
   "display_name": "Python 3.9.7 ('base')",
   "language": "python",
   "name": "python3"
  },
  "language_info": {
   "codemirror_mode": {
    "name": "ipython",
    "version": 3
   },
   "file_extension": ".py",
   "mimetype": "text/x-python",
   "name": "python",
   "nbconvert_exporter": "python",
   "pygments_lexer": "ipython3",
   "version": "3.9.7"
  },
  "orig_nbformat": 4
 },
 "nbformat": 4,
 "nbformat_minor": 2
}
