{
 "cells": [
  {
   "cell_type": "code",
   "execution_count": 1,
   "metadata": {},
   "outputs": [],
   "source": [
    "import numpy as np"
   ]
  },
  {
   "cell_type": "code",
   "execution_count": 25,
   "metadata": {},
   "outputs": [
    {
     "name": "stdout",
     "output_type": "stream",
     "text": [
      "[[0.17386191 0.14554853]\n",
      " [0.08084812 0.91795056]\n",
      " [0.17427391 0.04519379]]\n",
      "[[0.17386191 0.14554853]\n",
      " [0.08084812 0.91795056]\n",
      " [0.17427391 0.04519379]]\n"
     ]
    }
   ],
   "source": [
    "# crear dos array con random_sample y que tengan los mismos valores\n",
    "array = np.random.random_sample((3,2))\n",
    "print(array)\n",
    "\n",
    "array_copy = array.copy()\n",
    "print(array_copy)"
   ]
  },
  {
   "cell_type": "code",
   "execution_count": 26,
   "metadata": {},
   "outputs": [
    {
     "name": "stdout",
     "output_type": "stream",
     "text": [
      "[[[7.3 2.4 9.8 3.7 8. ]\n",
      "  [3.2 4.9 4.3 6.5 7.7]\n",
      "  [8.5 6.6 8.  3.  3.9]]\n",
      "\n",
      " [[6.2 7.6 2.2 3.9 6.7]\n",
      "  [5.  1.3 6.6 7.  9.4]\n",
      "  [4.9 3.  3.9 6.2 7.6]]]\n",
      "[1.3 2.2 2.4 3.  3.2 3.7 3.9 4.3 4.9 5.  6.2 6.5 6.6 6.7 7.  7.3 7.6 7.7\n",
      " 8.  8.5 9.4 9.8]\n"
     ]
    }
   ],
   "source": [
    "# crear array de 3 dimensiones, 2x3x5, sin decimales y entre 0-10; extrae sus valores únicos guardándolo en una variable\n",
    "array_uniform = np.random.uniform(0,10, (2,3,5)).round(1)\n",
    "print(array_uniform)\n",
    "\n",
    "valores_unicos = np.unique(array_uniform)\n",
    "print(valores_unicos)"
   ]
  },
  {
   "cell_type": "code",
   "execution_count": 27,
   "metadata": {},
   "outputs": [
    {
     "name": "stdout",
     "output_type": "stream",
     "text": [
      "[[[3 3 3 3 2]\n",
      "  [5 5 5 4 1]\n",
      "  [4 2 3 0 3]]\n",
      "\n",
      " [[4 5 3 0 3]\n",
      "  [4 0 2 5 3]\n",
      "  [3 3 3 2 2]]]\n",
      "[1.3 2.2 2.4 3.  3.2 3.7 3.9 4.3 4.9 5.  6.2 6.5 6.6 6.7 7.  7.3 7.6 7.7\n",
      " 8.  8.5 9.4 9.8]\n"
     ]
    }
   ],
   "source": [
    "# crear array de 3 dimensiones, 2x3x5, con probabilidad 0.3 y nº pruebas = 10; guarda los valores únicos en una variable\n",
    "array_binomial = np.random.binomial(10, 0.3, (2,3,5))\n",
    "print(array_binomial)\n",
    "\n",
    "valores_unicos_2 = np.unique(array_binomial)\n",
    "print(valores_unicos)"
   ]
  },
  {
   "cell_type": "code",
   "execution_count": 22,
   "metadata": {},
   "outputs": [
    {
     "name": "stdout",
     "output_type": "stream",
     "text": [
      "[6.]\n"
     ]
    }
   ],
   "source": [
    "# elementos comunes entre valores únicos de array3 y array4\n",
    "elementos_comunes = np.intersect1d(valores_unicos, valores_unicos_2)\n",
    "print(elementos_comunes)"
   ]
  },
  {
   "cell_type": "code",
   "execution_count": 23,
   "metadata": {},
   "outputs": [
    {
     "name": "stdout",
     "output_type": "stream",
     "text": [
      "[ 0.4  0.8  1.   1.1  1.3  1.6  1.9  2.   2.8  3.   3.1  3.4  3.6  3.8\n",
      "  4.   4.2  4.4  4.6  5.   5.2  5.6  5.8  6.   6.1  6.5  7.   7.1  7.4\n",
      "  7.5  8.   8.9  9.   9.2  9.4 10. ]\n"
     ]
    }
   ],
   "source": [
    "# unión de elementos únicos de array3 y array4\n",
    "union = np.union1d(valores_unicos, valores_unicos_2)\n",
    "print(union)"
   ]
  },
  {
   "cell_type": "code",
   "execution_count": 24,
   "metadata": {},
   "outputs": [
    {
     "name": "stdout",
     "output_type": "stream",
     "text": [
      "[ 0.4  0.8  1.1  1.3  1.6  1.9  2.8  3.1  3.4  3.6  3.8  4.2  4.4  4.6\n",
      "  5.2  5.6  5.8  6.1  6.5  7.1  7.4  7.5  8.   8.9  9.   9.2  9.4 10. ]\n"
     ]
    }
   ],
   "source": [
    "# ¿Qué elementos están en el array derivado de la distribución uniforme y no en los únicos de la distribución binomial? Extrae los valores númericos\n",
    "diferencia = np.setdiff1d(valores_unicos, valores_unicos_2)\n",
    "print(diferencia)"
   ]
  },
  {
   "cell_type": "code",
   "execution_count": 29,
   "metadata": {},
   "outputs": [
    {
     "name": "stdout",
     "output_type": "stream",
     "text": [
      "[[[0.20616578 0.0706148  0.1202535  ... 0.0426785  0.4772042  0.25728111]\n",
      "  [0.03518197 0.78802137 0.06469115 ... 0.47429273 0.71608268 0.51019929]\n",
      "  [0.53825139 0.64187779 0.70477597 ... 0.87412491 0.56389396 0.73140258]\n",
      "  ...\n",
      "  [0.29056813 0.27286195 0.04147346 ... 0.92626183 0.51430568 0.98845193]\n",
      "  [0.21853032 0.19535344 0.50044674 ... 0.47054914 0.9945856  0.14174924]\n",
      "  [0.76577793 0.71881374 0.55219617 ... 0.26470032 0.69926938 0.7428835 ]]]\n",
      "[[[0.9231398  0.80632971 0.90817497 ... 0.40340909 0.35709415 0.66091447]\n",
      "  [0.31198068 0.02484426 0.9943084  ... 0.44313906 0.04424215 0.57897722]\n",
      "  [0.62016334 0.62936604 0.42208687 ... 0.98395044 0.5794666  0.28181444]\n",
      "  ...\n",
      "  [0.09871338 0.84212381 0.69648883 ... 0.75794201 0.19513054 0.96672644]\n",
      "  [0.44969021 0.51577839 0.53693265 ... 0.07630316 0.89405744 0.95128704]\n",
      "  [0.8416947  0.18280043 0.60650744 ... 0.07113453 0.35085461 0.16397443]]]\n"
     ]
    }
   ],
   "source": [
    "# crear dos arrays usando random.rand con 80 elementos, nº entre 1-100\n",
    "array1 = np.random.rand(1,100, (80))\n",
    "print(array1)\n",
    "\n",
    "array2 = np.random.rand(1,100, (80))\n",
    "print(array2)"
   ]
  },
  {
   "cell_type": "code",
   "execution_count": 31,
   "metadata": {},
   "outputs": [
    {
     "name": "stdout",
     "output_type": "stream",
     "text": [
      "[4.20569473e-04 4.23931935e-04 4.52828258e-04 ... 9.99644779e-01\n",
      " 9.99743029e-01 9.99770665e-01]\n",
      "[7.44098124e-05 1.35068799e-04 2.64991850e-04 ... 9.99900469e-01\n",
      " 9.99967303e-01 9.99995957e-01]\n"
     ]
    }
   ],
   "source": [
    "# Extraed los valores únicos de cada uno de los arrays y los guardáis en variables en las que se les llame array1 y array2\n",
    "array1 = np.unique(array1)\n",
    "print(array1)\n",
    "\n",
    "array2 = np.unique(array2)\n",
    "print(array2)"
   ]
  },
  {
   "cell_type": "code",
   "execution_count": 32,
   "metadata": {},
   "outputs": [
    {
     "name": "stdout",
     "output_type": "stream",
     "text": [
      "[4.20569473e-04 4.23931935e-04 4.52828258e-04 ... 9.99644779e-01\n",
      " 9.99743029e-01 9.99770665e-01]\n"
     ]
    }
   ],
   "source": [
    "# Identificad los elementos presentes en el array1 pero no en el array2 y asiganarlo a una variable que se llame array3\n",
    "array3 = np.setdiff1d(array1, array2)\n",
    "print(array3)"
   ]
  },
  {
   "cell_type": "code",
   "execution_count": 33,
   "metadata": {},
   "outputs": [
    {
     "name": "stdout",
     "output_type": "stream",
     "text": [
      "[7.44098124e-05 1.35068799e-04 2.64991850e-04 ... 9.99900469e-01\n",
      " 9.99967303e-01 9.99995957e-01]\n"
     ]
    }
   ],
   "source": [
    "# Identificad los elementos presentes en el array2 pero no en el array1 y asiganarlo a una variable que se llame array4\n",
    "array4 = np.setdiff1d(array2, array1)\n",
    "print(array4)"
   ]
  },
  {
   "cell_type": "code",
   "execution_count": 34,
   "metadata": {},
   "outputs": [
    {
     "name": "stdout",
     "output_type": "stream",
     "text": [
      "[]\n"
     ]
    }
   ],
   "source": [
    "# Identificad los elementos presentes en ambos arrays y asiganarlos a una variable que se llame array5\n",
    "array5 = np.intersect1d(array1, array2)\n",
    "print(array5)"
   ]
  },
  {
   "cell_type": "code",
   "execution_count": 1,
   "metadata": {},
   "outputs": [
    {
     "ename": "NameError",
     "evalue": "name 'np' is not defined",
     "output_type": "error",
     "traceback": [
      "\u001b[0;31m---------------------------------------------------------------------------\u001b[0m",
      "\u001b[0;31mNameError\u001b[0m                                 Traceback (most recent call last)",
      "\u001b[0;32m/tmp/ipykernel_1388/3657728086.py\u001b[0m in \u001b[0;36m<module>\u001b[0;34m\u001b[0m\n\u001b[1;32m      1\u001b[0m \u001b[0;31m# ¿Cuál es la relación que existe entre todos estos arrays?\u001b[0m\u001b[0;34m\u001b[0m\u001b[0;34m\u001b[0m\u001b[0m\n\u001b[0;32m----> 2\u001b[0;31m \u001b[0mforma_1\u001b[0m \u001b[0;34m=\u001b[0m \u001b[0mnp\u001b[0m\u001b[0;34m.\u001b[0m\u001b[0mshape\u001b[0m\u001b[0;34m(\u001b[0m\u001b[0marray1\u001b[0m\u001b[0;34m)\u001b[0m\u001b[0;34m\u001b[0m\u001b[0;34m\u001b[0m\u001b[0m\n\u001b[0m\u001b[1;32m      3\u001b[0m \u001b[0mprint\u001b[0m\u001b[0;34m(\u001b[0m\u001b[0mforma_1\u001b[0m\u001b[0;34m)\u001b[0m\u001b[0;34m\u001b[0m\u001b[0;34m\u001b[0m\u001b[0m\n\u001b[1;32m      4\u001b[0m \u001b[0;34m\u001b[0m\u001b[0m\n\u001b[1;32m      5\u001b[0m \u001b[0mforma_2\u001b[0m \u001b[0;34m=\u001b[0m \u001b[0mnp\u001b[0m\u001b[0;34m.\u001b[0m\u001b[0mshape\u001b[0m\u001b[0;34m(\u001b[0m\u001b[0marray2\u001b[0m\u001b[0;34m)\u001b[0m\u001b[0;34m\u001b[0m\u001b[0;34m\u001b[0m\u001b[0m\n",
      "\u001b[0;31mNameError\u001b[0m: name 'np' is not defined"
     ]
    }
   ],
   "source": [
    "# ¿Cuál es la relación que existe entre todos estos arrays?\n",
    "forma_1 = np.shape(array1)\n",
    "print(forma_1)\n",
    "\n",
    "forma_2 = np.shape(array2)\n",
    "print(forma_2)\n",
    "\n",
    "forma_3 = np.shape(array3)\n",
    "print(forma_3)\n",
    "\n",
    "forma_4 = np.shape(array4)\n",
    "print(forma_4)\n",
    "\n",
    "forma_5 = np.shape(array5)\n",
    "print(forma_5)\n",
    "\n",
    "# Todos los arrays tienen la misma longitud salvo array5 porque es una intersección entre array1 y array2 y no tienen elementos en común"
   ]
  }
 ],
 "metadata": {
  "interpreter": {
   "hash": "9df72549cec875d35faaa50875d444b10c11452b268975a17c9dc6870f43870f"
  },
  "kernelspec": {
   "display_name": "Python 3.9.7 ('base')",
   "language": "python",
   "name": "python3"
  },
  "language_info": {
   "codemirror_mode": {
    "name": "ipython",
    "version": 3
   },
   "file_extension": ".py",
   "mimetype": "text/x-python",
   "name": "python",
   "nbconvert_exporter": "python",
   "pygments_lexer": "ipython3",
   "version": "3.9.7"
  },
  "orig_nbformat": 4
 },
 "nbformat": 4,
 "nbformat_minor": 2
}
