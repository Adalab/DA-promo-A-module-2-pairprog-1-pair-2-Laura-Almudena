{
 "cells": [
  {
   "cell_type": "code",
   "execution_count": null,
   "metadata": {},
   "outputs": [],
   "source": [
    "# En este ejercicio de pair programming pondremos en práctica como cargar distintos tipos de archivos en Python usando Pandas.\n",
    "# Al final de la explicación encontrareís una serie de ficheros con distintos formatos.\n",
    "# El objetivo de este pair programming\n",
    "# Id cargando todos los ficheros en vuestro jupyter."
   ]
  },
  {
   "cell_type": "code",
   "execution_count": null,
   "metadata": {},
   "outputs": [],
   "source": [
    "import pandas as pd\n",
    "\n",
    "#abriendo csv\n",
    "archivo_csv = pd.read_csv(\"DA-promo-A-module-2-pairprog-1-pair-2-Laura-Almudena/quejas.csv\",sep = \";\", encoding= \"latin1\")\n",
    "archivo_csv\n"
   ]
  },
  {
   "cell_type": "code",
   "execution_count": null,
   "metadata": {},
   "outputs": [],
   "source": [
    "#abriendo json\n",
    "archivo_json = pd.read_json(\"DA-promo-A-module-2-pairprog-1-pair-2-Laura-Almudena/quejas.json\")\n",
    "archivo_json"
   ]
  },
  {
   "cell_type": "code",
   "execution_count": null,
   "metadata": {},
   "outputs": [],
   "source": [
    "#abriendo xlsx\n",
    "archivo_xlsx = pd.read_excel(\"DA-promo-A-module-2-pairprog-1-pair-2-Laura-Almudena/quejas2.xlsx\")\n",
    "archivo_xlsx"
   ]
  },
  {
   "cell_type": "code",
   "execution_count": 34,
   "metadata": {},
   "outputs": [
    {
     "data": {
      "text/html": [
       "<div>\n",
       "<style scoped>\n",
       "    .dataframe tbody tr th:only-of-type {\n",
       "        vertical-align: middle;\n",
       "    }\n",
       "\n",
       "    .dataframe tbody tr th {\n",
       "        vertical-align: top;\n",
       "    }\n",
       "\n",
       "    .dataframe thead th {\n",
       "        text-align: right;\n",
       "    }\n",
       "</style>\n",
       "<table border=\"1\" class=\"dataframe\">\n",
       "  <thead>\n",
       "    <tr style=\"text-align: right;\">\n",
       "      <th></th>\n",
       "      <th>tipo</th>\n",
       "      <th>estado</th>\n",
       "      <th>canal_entrada</th>\n",
       "      <th>fecha_entrada</th>\n",
       "      <th>fecha_contestacion</th>\n",
       "      <th>consejeria</th>\n",
       "      <th>unidad_descripcion</th>\n",
       "      <th>tema</th>\n",
       "      <th>subtema</th>\n",
       "    </tr>\n",
       "  </thead>\n",
       "  <tbody>\n",
       "    <tr>\n",
       "      <th>0</th>\n",
       "      <td>Queja</td>\n",
       "      <td>Recepcionada por Unidad</td>\n",
       "      <td>INTERNET</td>\n",
       "      <td>2022-01-28 00:00:00</td>\n",
       "      <td>NaN</td>\n",
       "      <td>Consejería de Medio Ambiente, Vivienda y Agric...</td>\n",
       "      <td>D.G. de Descarbonización y Transición Energética</td>\n",
       "      <td>ENERGÍA</td>\n",
       "      <td>NaN</td>\n",
       "    </tr>\n",
       "    <tr>\n",
       "      <th>1</th>\n",
       "      <td>Queja</td>\n",
       "      <td>Recepcionada por Unidad</td>\n",
       "      <td>INTERNET</td>\n",
       "      <td>2022-03-28 00:00:00</td>\n",
       "      <td>NaN</td>\n",
       "      <td>Consejería de Medio Ambiente, Vivienda y Agric...</td>\n",
       "      <td>D.G. de Descarbonización y Transición Energética</td>\n",
       "      <td>ENERGÍA</td>\n",
       "      <td>NaN</td>\n",
       "    </tr>\n",
       "    <tr>\n",
       "      <th>2</th>\n",
       "      <td>Queja</td>\n",
       "      <td>Recepcionada por Unidad</td>\n",
       "      <td>INTERNET</td>\n",
       "      <td>2022-03-23 00:00:00</td>\n",
       "      <td>NaN</td>\n",
       "      <td>Consejería de Medio Ambiente, Vivienda y Agric...</td>\n",
       "      <td>D.G. de Descarbonización y Transición Energética</td>\n",
       "      <td>ENERGÍA</td>\n",
       "      <td>NaN</td>\n",
       "    </tr>\n",
       "    <tr>\n",
       "      <th>3</th>\n",
       "      <td>Queja</td>\n",
       "      <td>Recepcionada por Unidad</td>\n",
       "      <td>INTERNET</td>\n",
       "      <td>2022-01-24 00:00:00</td>\n",
       "      <td>NaN</td>\n",
       "      <td>Consejería de Medio Ambiente, Vivienda y Agric...</td>\n",
       "      <td>D.G. de Descarbonización y Transición Energética</td>\n",
       "      <td>ENERGÍA</td>\n",
       "      <td>NaN</td>\n",
       "    </tr>\n",
       "    <tr>\n",
       "      <th>4</th>\n",
       "      <td>Queja</td>\n",
       "      <td>Recepcionada por Unidad</td>\n",
       "      <td>INTERNET</td>\n",
       "      <td>2022-03-29 00:00:00</td>\n",
       "      <td>NaN</td>\n",
       "      <td>Consejería de Medio Ambiente, Vivienda y Agric...</td>\n",
       "      <td>D.G. de Descarbonización y Transición Energética</td>\n",
       "      <td>ENERGÍA</td>\n",
       "      <td>NaN</td>\n",
       "    </tr>\n",
       "    <tr>\n",
       "      <th>...</th>\n",
       "      <td>...</td>\n",
       "      <td>...</td>\n",
       "      <td>...</td>\n",
       "      <td>...</td>\n",
       "      <td>...</td>\n",
       "      <td>...</td>\n",
       "      <td>...</td>\n",
       "      <td>...</td>\n",
       "      <td>...</td>\n",
       "    </tr>\n",
       "    <tr>\n",
       "      <th>4494</th>\n",
       "      <td>Sugerencia</td>\n",
       "      <td>Cancelada</td>\n",
       "      <td>INTERNET</td>\n",
       "      <td>2022-01-02 00:00:00</td>\n",
       "      <td>NaN</td>\n",
       "      <td>Consejería de Medio Ambiente, Vivienda y Agric...</td>\n",
       "      <td>NaN</td>\n",
       "      <td>OTROS</td>\n",
       "      <td>OTROS</td>\n",
       "    </tr>\n",
       "    <tr>\n",
       "      <th>4495</th>\n",
       "      <td>Sugerencia</td>\n",
       "      <td>Rechazada por SGAC</td>\n",
       "      <td>INTERNET</td>\n",
       "      <td>2022-03-08 00:00:00</td>\n",
       "      <td>NaN</td>\n",
       "      <td>NaN</td>\n",
       "      <td>NaN</td>\n",
       "      <td>OTROS</td>\n",
       "      <td>Sin valor</td>\n",
       "    </tr>\n",
       "    <tr>\n",
       "      <th>4496</th>\n",
       "      <td>Queja</td>\n",
       "      <td>Rechazada por SGAC</td>\n",
       "      <td>INTERNET</td>\n",
       "      <td>2022-01-24 00:00:00</td>\n",
       "      <td>NaN</td>\n",
       "      <td>NaN</td>\n",
       "      <td>NaN</td>\n",
       "      <td>OTROS</td>\n",
       "      <td>Sin valor</td>\n",
       "    </tr>\n",
       "    <tr>\n",
       "      <th>4497</th>\n",
       "      <td>Queja</td>\n",
       "      <td>Rechazada por SGAC</td>\n",
       "      <td>INTERNET</td>\n",
       "      <td>2022-01-21 00:00:00</td>\n",
       "      <td>NaN</td>\n",
       "      <td>NaN</td>\n",
       "      <td>NaN</td>\n",
       "      <td>OTROS</td>\n",
       "      <td>Sin valor</td>\n",
       "    </tr>\n",
       "    <tr>\n",
       "      <th>4498</th>\n",
       "      <td>Queja</td>\n",
       "      <td>Rechazada por SGAC</td>\n",
       "      <td>INTERNET</td>\n",
       "      <td>2022-01-21 00:00:00</td>\n",
       "      <td>NaN</td>\n",
       "      <td>NaN</td>\n",
       "      <td>NaN</td>\n",
       "      <td>OTROS</td>\n",
       "      <td>Sin valor</td>\n",
       "    </tr>\n",
       "  </tbody>\n",
       "</table>\n",
       "<p>4499 rows × 9 columns</p>\n",
       "</div>"
      ],
      "text/plain": [
       "            tipo                   estado canal_entrada        fecha_entrada  \\\n",
       "0          Queja  Recepcionada por Unidad      INTERNET  2022-01-28 00:00:00   \n",
       "1          Queja  Recepcionada por Unidad      INTERNET  2022-03-28 00:00:00   \n",
       "2          Queja  Recepcionada por Unidad      INTERNET  2022-03-23 00:00:00   \n",
       "3          Queja  Recepcionada por Unidad      INTERNET  2022-01-24 00:00:00   \n",
       "4          Queja  Recepcionada por Unidad      INTERNET  2022-03-29 00:00:00   \n",
       "...          ...                      ...           ...                  ...   \n",
       "4494  Sugerencia                Cancelada      INTERNET  2022-01-02 00:00:00   \n",
       "4495  Sugerencia       Rechazada por SGAC      INTERNET  2022-03-08 00:00:00   \n",
       "4496       Queja       Rechazada por SGAC      INTERNET  2022-01-24 00:00:00   \n",
       "4497       Queja       Rechazada por SGAC      INTERNET  2022-01-21 00:00:00   \n",
       "4498       Queja       Rechazada por SGAC      INTERNET  2022-01-21 00:00:00   \n",
       "\n",
       "     fecha_contestacion                                         consejeria  \\\n",
       "0                   NaN  Consejería de Medio Ambiente, Vivienda y Agric...   \n",
       "1                   NaN  Consejería de Medio Ambiente, Vivienda y Agric...   \n",
       "2                   NaN  Consejería de Medio Ambiente, Vivienda y Agric...   \n",
       "3                   NaN  Consejería de Medio Ambiente, Vivienda y Agric...   \n",
       "4                   NaN  Consejería de Medio Ambiente, Vivienda y Agric...   \n",
       "...                 ...                                                ...   \n",
       "4494                NaN  Consejería de Medio Ambiente, Vivienda y Agric...   \n",
       "4495                NaN                                                NaN   \n",
       "4496                NaN                                                NaN   \n",
       "4497                NaN                                                NaN   \n",
       "4498                NaN                                                NaN   \n",
       "\n",
       "                                    unidad_descripcion     tema    subtema  \n",
       "0     D.G. de Descarbonización y Transición Energética  ENERGÍA        NaN  \n",
       "1     D.G. de Descarbonización y Transición Energética  ENERGÍA        NaN  \n",
       "2     D.G. de Descarbonización y Transición Energética  ENERGÍA        NaN  \n",
       "3     D.G. de Descarbonización y Transición Energética  ENERGÍA        NaN  \n",
       "4     D.G. de Descarbonización y Transición Energética  ENERGÍA        NaN  \n",
       "...                                                ...      ...        ...  \n",
       "4494                                               NaN    OTROS      OTROS  \n",
       "4495                                               NaN    OTROS  Sin valor  \n",
       "4496                                               NaN    OTROS  Sin valor  \n",
       "4497                                               NaN    OTROS  Sin valor  \n",
       "4498                                               NaN    OTROS  Sin valor  \n",
       "\n",
       "[4499 rows x 9 columns]"
      ]
     },
     "execution_count": 34,
     "metadata": {},
     "output_type": "execute_result"
    }
   ],
   "source": [
    "#abriendo pickle\n",
    "\n",
    "df_csv = pd.DataFrame(archivo_csv)                                                                              #creamos df a partir del csv\n",
    "archivo_pickle_df = df_csv.to_pickle(\"DA-promo-A-module-2-pairprog-1-pair-2-Laura-Almudena/quejas.csv\")         #lo cambiamos a pickle\n",
    "archivo_pickle_df\n",
    "\n",
    "pickle = pd.read_pickle(\"DA-promo-A-module-2-pairprog-1-pair-2-Laura-Almudena/quejas.csv\")                      #leemos como pickle\n",
    "pickle\n"
   ]
  },
  {
   "cell_type": "code",
   "execution_count": 37,
   "metadata": {},
   "outputs": [
    {
     "data": {
      "text/html": [
       "<div>\n",
       "<style scoped>\n",
       "    .dataframe tbody tr th:only-of-type {\n",
       "        vertical-align: middle;\n",
       "    }\n",
       "\n",
       "    .dataframe tbody tr th {\n",
       "        vertical-align: top;\n",
       "    }\n",
       "\n",
       "    .dataframe thead th {\n",
       "        text-align: right;\n",
       "    }\n",
       "</style>\n",
       "<table border=\"1\" class=\"dataframe\">\n",
       "  <thead>\n",
       "    <tr style=\"text-align: right;\">\n",
       "      <th></th>\n",
       "      <th>id</th>\n",
       "      <th>Name</th>\n",
       "      <th>subject_id</th>\n",
       "      <th>Marks_scored</th>\n",
       "      <th>Rank</th>\n",
       "    </tr>\n",
       "  </thead>\n",
       "  <tbody>\n",
       "    <tr>\n",
       "      <th>0</th>\n",
       "      <td>1</td>\n",
       "      <td>Alex</td>\n",
       "      <td>sub1</td>\n",
       "      <td>98</td>\n",
       "      <td>1</td>\n",
       "    </tr>\n",
       "    <tr>\n",
       "      <th>1</th>\n",
       "      <td>2</td>\n",
       "      <td>Amy</td>\n",
       "      <td>sub2</td>\n",
       "      <td>90</td>\n",
       "      <td>1</td>\n",
       "    </tr>\n",
       "    <tr>\n",
       "      <th>2</th>\n",
       "      <td>3</td>\n",
       "      <td>Allen</td>\n",
       "      <td>sub3</td>\n",
       "      <td>87</td>\n",
       "      <td>2</td>\n",
       "    </tr>\n",
       "    <tr>\n",
       "      <th>3</th>\n",
       "      <td>4</td>\n",
       "      <td>Alice</td>\n",
       "      <td>sub4</td>\n",
       "      <td>69</td>\n",
       "      <td>10</td>\n",
       "    </tr>\n",
       "    <tr>\n",
       "      <th>4</th>\n",
       "      <td>5</td>\n",
       "      <td>Ayoung</td>\n",
       "      <td>sub5</td>\n",
       "      <td>78</td>\n",
       "      <td>7</td>\n",
       "    </tr>\n",
       "  </tbody>\n",
       "</table>\n",
       "</div>"
      ],
      "text/plain": [
       "   id    Name subject_id  Marks_scored  Rank\n",
       "0   1    Alex       sub1            98     1\n",
       "1   2     Amy       sub2            90     1\n",
       "2   3   Allen       sub3            87     2\n",
       "3   4   Alice       sub4            69    10\n",
       "4   5  Ayoung       sub5            78     7"
      ]
     },
     "execution_count": 37,
     "metadata": {},
     "output_type": "execute_result"
    }
   ],
   "source": [
    "# Para poner el práctica el read_clipboard elegir alguna tabla que os podaís encontrar en google y \n",
    "# usad el dicho método para traer los datos al jupyter notebook. Una vez que los hayáis cargado, guardad esos datos en los siguientes formatos:\n",
    "\n",
    "df_clipboard = pd.read_clipboard()\n",
    "df_clipboard"
   ]
  },
  {
   "cell_type": "code",
   "execution_count": 39,
   "metadata": {},
   "outputs": [
    {
     "data": {
      "text/plain": [
       "<bound method NDFrame.to_csv of    id    Name subject_id  Marks_scored  Rank\n",
       "0   1    Alex       sub1            98     1\n",
       "1   2     Amy       sub2            90     1\n",
       "2   3   Allen       sub3            87     2\n",
       "3   4   Alice       sub4            69    10\n",
       "4   5  Ayoung       sub5            78     7>"
      ]
     },
     "execution_count": 39,
     "metadata": {},
     "output_type": "execute_result"
    }
   ],
   "source": [
    "guardar_a_csv = df_clipboard.to_csv\n",
    "guardar_a_csv"
   ]
  },
  {
   "cell_type": "code",
   "execution_count": 42,
   "metadata": {},
   "outputs": [
    {
     "data": {
      "text/plain": [
       "<bound method NDFrame.to_excel of    id    Name subject_id  Marks_scored  Rank\n",
       "0   1    Alex       sub1            98     1\n",
       "1   2     Amy       sub2            90     1\n",
       "2   3   Allen       sub3            87     2\n",
       "3   4   Alice       sub4            69    10\n",
       "4   5  Ayoung       sub5            78     7>"
      ]
     },
     "execution_count": 42,
     "metadata": {},
     "output_type": "execute_result"
    }
   ],
   "source": [
    "guardar_a_excel = df_clipboard.to_excel\n",
    "guardar_a_excel"
   ]
  },
  {
   "cell_type": "code",
   "execution_count": 40,
   "metadata": {},
   "outputs": [
    {
     "data": {
      "text/plain": [
       "<bound method NDFrame.to_pickle of    id    Name subject_id  Marks_scored  Rank\n",
       "0   1    Alex       sub1            98     1\n",
       "1   2     Amy       sub2            90     1\n",
       "2   3   Allen       sub3            87     2\n",
       "3   4   Alice       sub4            69    10\n",
       "4   5  Ayoung       sub5            78     7>"
      ]
     },
     "execution_count": 40,
     "metadata": {},
     "output_type": "execute_result"
    }
   ],
   "source": [
    "guardar_a_pickle = df_clipboard.to_pickle\n",
    "guardar_a_pickle"
   ]
  },
  {
   "cell_type": "code",
   "execution_count": 43,
   "metadata": {},
   "outputs": [
    {
     "data": {
      "text/plain": [
       "<bound method NDFrame.to_pickle of    id    Name subject_id  Marks_scored  Rank\n",
       "0   1    Alex       sub1            98     1\n",
       "1   2     Amy       sub2            90     1\n",
       "2   3   Allen       sub3            87     2\n",
       "3   4   Alice       sub4            69    10\n",
       "4   5  Ayoung       sub5            78     7>"
      ]
     },
     "execution_count": 43,
     "metadata": {},
     "output_type": "execute_result"
    }
   ],
   "source": [
    "guardar_a_json = df_clipboard.to_pickle\n",
    "guardar_a_json"
   ]
  }
 ],
 "metadata": {
  "interpreter": {
   "hash": "a2a25da4702e7ca1aacc8a7d4e81059851e19fd1060402175b35fae4c2a518e8"
  },
  "kernelspec": {
   "display_name": "Python 3.9.7 ('base')",
   "language": "python",
   "name": "python3"
  },
  "language_info": {
   "codemirror_mode": {
    "name": "ipython",
    "version": 3
   },
   "file_extension": ".py",
   "mimetype": "text/x-python",
   "name": "python",
   "nbconvert_exporter": "python",
   "pygments_lexer": "ipython3",
   "version": "3.9.7"
  },
  "orig_nbformat": 4
 },
 "nbformat": 4,
 "nbformat_minor": 2
}
