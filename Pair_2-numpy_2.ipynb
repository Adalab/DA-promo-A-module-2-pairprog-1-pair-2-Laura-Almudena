{
 "cells": [
  {
   "cell_type": "code",
   "execution_count": 32,
   "metadata": {},
   "outputs": [
    {
     "name": "stdout",
     "output_type": "stream",
     "text": [
      "[[0.52482371 0.99736244 0.05141989]\n",
      " [0.97376251 0.90325829 0.30874732]\n",
      " [0.90166818 0.50300148 0.8303458 ]\n",
      " [0.97632198 0.97230496 0.26296933]\n",
      " [0.08165811 0.59702644 0.30730015]]\n",
      "Esto es la primera fila y segunda columna: \n",
      " 0.9973624441268643\n",
      "Esto es la segunda fila y las dos primeras columnas: \n",
      " [0.97376251 0.90325829]\n",
      "Esto son las filas pares (incluyendo 0) y todas las columnas: \n",
      " [[0.52482371 0.99736244 0.05141989]\n",
      " [0.90166818 0.50300148 0.8303458 ]\n",
      " [0.08165811 0.59702644 0.30730015]]\n",
      "Estos son los valores mayores que 0.5: \n",
      " [0.52482371 0.99736244 0.97376251 0.90325829 0.90166818 0.50300148\n",
      " 0.8303458  0.97632198 0.97230496 0.59702644]\n",
      "Estos son los valores menores 0.2 y mayores que 0.5: \n",
      " [0.52482371 0.99736244 0.05141989 0.97376251 0.90325829 0.90166818\n",
      " 0.50300148 0.8303458  0.97632198 0.97230496 0.08165811 0.59702644]\n"
     ]
    }
   ],
   "source": [
    "import numpy as np\n",
    "\n",
    "# crear array bidimensional 5x3\n",
    "array1 = np.random.rand(5,3)\n",
    "print(array1)\n",
    "\n",
    "# valor de la primera fila y segunda columna\n",
    "print('Esto es la primera fila y segunda columna: \\n', array1[0,1])\n",
    "\n",
    "# segunda fila y dos primeras columnas\n",
    "print('Esto es la segunda fila y las dos primeras columnas: \\n', array1[1,0:2])\n",
    "\n",
    "# extraer filas pares y todas las columnas \n",
    "print('Esto son las filas pares (incluyendo 0) y todas las columnas: \\n', array1[0:6:2,:])\n",
    "\n",
    "# valores > 0.5\n",
    "print('Estos son los valores mayores que 0.5: \\n', array1[array1 > 0.5])\n",
    "\n",
    "# valores < 0.2 y > 0.5\n",
    "print('Estos son los valores menores 0.2 y mayores que 0.5: \\n', array1[(array1 < 0.2) | (array1 > 0.5)])"
   ]
  },
  {
   "cell_type": "code",
   "execution_count": 34,
   "metadata": {},
   "outputs": [
    {
     "name": "stdout",
     "output_type": "stream",
     "text": [
      "(2, 3, 5)\n",
      "30\n",
      "3\n",
      "float64\n",
      "(3, 2, 5)\n",
      "30\n",
      "3\n",
      "float64\n",
      "[[[1.23507537 1.01839862 0.45960222 0.30939579 0.39553112]\n",
      "  [1.22092173 1.18429155 1.74239767 1.12817454 1.27394018]\n",
      "  [1.0706914  0.97090933 0.96231356 0.93389756 0.41085454]]\n",
      "\n",
      " [[1.0920196  0.935974   0.46452287 1.2243196  0.75080431]\n",
      "  [1.41055104 0.47218603 1.47690214 0.7539586  1.47077291]\n",
      "  [0.79669956 1.11018517 1.21018863 1.24081537 1.02328705]]]\n",
      "[[[-0.12064602 -0.19823631 -0.25620242 -0.30006673 -0.32326739]\n",
      "  [ 0.04158759  0.85057808  0.32130414  0.07138118  0.65037375]\n",
      "  [-0.49424543  0.20186645 -0.93356904  0.15783281 -0.13925339]]\n",
      "\n",
      " [[-0.03248197  0.8857116  -0.90582048 -0.11927023 -0.27558433]\n",
      "  [-0.09955322 -0.01340578 -0.36823029 -0.30890262  0.51784278]\n",
      "  [-0.10718269  0.38180131 -0.26243929 -0.45649001 -0.46160767]]]\n",
      "[[[0.37771393 0.24945953 0.03639863 0.00142143 0.01298576]\n",
      "  [0.31402844 0.27480419 0.74412622 0.20605749 0.31633024]\n",
      "  [0.2552711  0.23456527 0.05374797 0.21165759 0.04215534]]\n",
      "\n",
      " [[0.25004247 0.01557256 0.01563639 0.32833605 0.13286159]\n",
      "  [0.48885779 0.01462214 0.50373313 0.12278242 0.54076401]\n",
      "  [0.15581051 0.27168472 0.34892054 0.33280992 0.20850869]]]\n",
      "[[[8.22019454e-01 6.74123597e-01 2.84155456e-01 1.53070379e-02\n",
      "   1.00534050e-01]\n",
      "  [1.12728480e+00 5.11976745e+01 1.75073125e+00 1.08625346e+00\n",
      "   3.27725282e+00]\n",
      "  [4.20311703e-01 1.63726728e+00 5.99495821e-02 1.68856866e+00\n",
      "   5.87971978e-01]]\n",
      "\n",
      " [[9.59284185e-01 2.75837123e+01 3.87694920e-02 7.68862938e-01\n",
      "   6.27987342e-01]\n",
      "  [8.60243101e-01 9.70359157e-01 5.92113935e-01 4.35119606e-01\n",
      "   3.44107422e+00]\n",
      "  [7.62839257e-01 2.04835191e+00 6.43576916e-01 4.62100321e-01\n",
      "   3.78262087e-01]]]\n"
     ]
    }
   ],
   "source": [
    "# crear dos array de 3 dimensiones\n",
    "array2 = np.random.rand(2,3,5)\n",
    "array3 = np.random.rand(3,2,5)\n",
    "\n",
    "# análisis exploratorio de los arrays creados\n",
    "def analisis():\n",
    "    lista_array = [array2, array3]\n",
    "    for propiedad in lista_array:\n",
    "        print(propiedad.shape)\n",
    "        print(propiedad.size)\n",
    "        print(propiedad.ndim)\n",
    "        print(propiedad.dtype)\n",
    "\n",
    "analisis()\n",
    "\n",
    "# suma dos arrays\n",
    "# suma = array2 + array3 no se puede porque no tienen la misma forma\n",
    "\n",
    "# .reshape() y .transpose()\n",
    "array3_transpose = array3.transpose(1,0,2)\n",
    "array3_reshape = array3.reshape(2,3,5)\n",
    "\n",
    "suma = array2 + array3_transpose\n",
    "print(suma)\n",
    "\n",
    "resta = array2 - array3_reshape\n",
    "print(resta)\n",
    "\n",
    "multiplicacion = array2 * array3_transpose\n",
    "print(multiplicacion)\n",
    "\n",
    "division = array2 / array3_reshape\n",
    "print(division)\n"
   ]
  }
 ],
 "metadata": {
  "interpreter": {
   "hash": "9df72549cec875d35faaa50875d444b10c11452b268975a17c9dc6870f43870f"
  },
  "kernelspec": {
   "display_name": "Python 3.9.7 ('base')",
   "language": "python",
   "name": "python3"
  },
  "language_info": {
   "codemirror_mode": {
    "name": "ipython",
    "version": 3
   },
   "file_extension": ".py",
   "mimetype": "text/x-python",
   "name": "python",
   "nbconvert_exporter": "python",
   "pygments_lexer": "ipython3",
   "version": "3.9.7"
  },
  "orig_nbformat": 4
 },
 "nbformat": 4,
 "nbformat_minor": 2
}
