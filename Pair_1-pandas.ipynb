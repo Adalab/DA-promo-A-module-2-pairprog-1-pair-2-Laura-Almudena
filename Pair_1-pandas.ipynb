{
 "cells": [
  {
   "cell_type": "code",
   "execution_count": 4,
   "metadata": {},
   "outputs": [],
   "source": [
    "import pandas as pd\n",
    "import numpy as np"
   ]
  },
  {
   "cell_type": "code",
   "execution_count": null,
   "metadata": {},
   "outputs": [],
   "source": [
    "# ¿Qué diferencia hay entre una Serie y un Dataframe?\n",
    "# La serie tiene una dimensión y el DataFrame tiene dos"
   ]
  },
  {
   "cell_type": "code",
   "execution_count": null,
   "metadata": {},
   "outputs": [],
   "source": [
    "# Momento de trabajar con Series. Contestas las siguientes preguntas:\n",
    "# Crea dos listas:\n",
    "# Una que se llame \"valores\" que tenga 7 números aleatorios.\n",
    "# Otra que se llame \"indices\" que tenga 7 strings que se llamen como los dias de la semana."
   ]
  },
  {
   "cell_type": "code",
   "execution_count": 5,
   "metadata": {},
   "outputs": [],
   "source": [
    "valores = np.random.randint(0,15, (7))\n",
    "indices = [\"Lunes\", \"Martes\", \"Miercoles\", \"Jueves\", \"Viernes\", \"Sabado\", \"Domingo\"]"
   ]
  },
  {
   "cell_type": "code",
   "execution_count": null,
   "metadata": {},
   "outputs": [],
   "source": [
    "# A partir de estas dos listas crea una Serie donde la variable \"valores\" sean los valores de la Serie \n",
    "# y la variable indices sean los índices de la Serie.\n",
    "\n",
    "serie = pd.Series(valores, indices)\n",
    "serie"
   ]
  },
  {
   "cell_type": "code",
   "execution_count": 10,
   "metadata": {},
   "outputs": [
    {
     "name": "stdout",
     "output_type": "stream",
     "text": [
      "{'Lunes': 0, 'Martes': 2, 'Miercoles': 6, 'Jueves': 1, 'Viernes': 9, 'Sabado': 3, 'Domingo': 0}\n"
     ]
    }
   ],
   "source": [
    "# A partir de las dos listas anteriores crea un diccionario usando un for. \n",
    "# Para hacer esto tenemos el método zip que nos permite iterar por dos listas a la vez. Más informción sobre este método aquí.\n",
    "\n",
    "\n",
    "diccionario_global = {}\n",
    "for key,value in zip(indices, valores):   \n",
    "    diccionario = {key:value}                             #podríamos evitar variable diccionario\n",
    "    diccionario_global.update(diccionario)\n",
    "print(diccionario_global)"
   ]
  },
  {
   "cell_type": "code",
   "execution_count": 12,
   "metadata": {},
   "outputs": [
    {
     "data": {
      "text/plain": [
       "Lunes        0\n",
       "Martes       2\n",
       "Miercoles    6\n",
       "Jueves       1\n",
       "Viernes      9\n",
       "Sabado       3\n",
       "Domingo      0\n",
       "dtype: int64"
      ]
     },
     "execution_count": 12,
     "metadata": {},
     "output_type": "execute_result"
    }
   ],
   "source": [
    "# Crea una Serie con el diccionario creado en el punto anterior.\n",
    "\n",
    "serie_diccionario = pd.Series(diccionario_global)\n",
    "serie_diccionario"
   ]
  },
  {
   "cell_type": "code",
   "execution_count": 13,
   "metadata": {},
   "outputs": [
    {
     "name": "stdout",
     "output_type": "stream",
     "text": [
      "Esta es la forma de nuestra serie (7,)\n"
     ]
    }
   ],
   "source": [
    "# Forma, tamaño, índices y values\n",
    "print(\"Esta es la forma de nuestra serie\", serie_diccionario.shape)"
   ]
  },
  {
   "cell_type": "code",
   "execution_count": 14,
   "metadata": {},
   "outputs": [
    {
     "name": "stdout",
     "output_type": "stream",
     "text": [
      "Este es el ti po de nuestra serie int64\n"
     ]
    }
   ],
   "source": [
    "print(\"Este es el tipo de nuestra serie\" , serie_diccionario.dtypes)"
   ]
  },
  {
   "cell_type": "code",
   "execution_count": 15,
   "metadata": {},
   "outputs": [
    {
     "name": "stdout",
     "output_type": "stream",
     "text": [
      "Este es el tamaño de nuestra serie 7\n"
     ]
    }
   ],
   "source": [
    "print(\"Este es el tamaño de nuestra serie\", serie_diccionario.size)"
   ]
  },
  {
   "cell_type": "code",
   "execution_count": 16,
   "metadata": {},
   "outputs": [
    {
     "name": "stdout",
     "output_type": "stream",
     "text": [
      "Estos son los valores de nuestra serie [0 2 6 1 9 3 0]\n"
     ]
    }
   ],
   "source": [
    "print(\"Estos son los valores de nuestra serie\", serie_diccionario.values)"
   ]
  },
  {
   "cell_type": "code",
   "execution_count": 26,
   "metadata": {},
   "outputs": [
    {
     "data": {
      "text/plain": [
       "0"
      ]
     },
     "execution_count": 26,
     "metadata": {},
     "output_type": "execute_result"
    }
   ],
   "source": [
    "# Extraed el valor para el índice \"lunes\"\n",
    "\n",
    "serie_diccionario[\"Lunes\"]"
   ]
  },
  {
   "cell_type": "code",
   "execution_count": 32,
   "metadata": {},
   "outputs": [
    {
     "name": "stdout",
     "output_type": "stream",
     "text": [
      "0 2 6\n"
     ]
    }
   ],
   "source": [
    "# Extraed el valor para el índice \"lunes\", \"martes\" y \"miércoles\"\n",
    "\n",
    "print(serie_diccionario[\"Lunes\"], serie_diccionario[\"Martes\"], serie_diccionario[\"Miercoles\"])   "
   ]
  },
  {
   "cell_type": "code",
   "execution_count": 33,
   "metadata": {},
   "outputs": [
    {
     "data": {
      "text/plain": [
       "(0, 0)"
      ]
     },
     "execution_count": 33,
     "metadata": {},
     "output_type": "execute_result"
    }
   ],
   "source": [
    "# Extraed el valor para el índice \"lunes\" y \"domingo\"\n",
    "serie_diccionario[\"Lunes\"], serie_diccionario[\"Domingo\"]"
   ]
  },
  {
   "cell_type": "markdown",
   "metadata": {},
   "source": [
    "DataFrames"
   ]
  },
  {
   "cell_type": "code",
   "execution_count": null,
   "metadata": {},
   "outputs": [],
   "source": [
    "# Cread un array de dos dimensiones con 4 filas y 3 columnas.\n",
    "array_df = np.random.randint(0,100,(4,3))\n",
    "dataframe = pd.DataFrame(array_df)"
   ]
  },
  {
   "cell_type": "code",
   "execution_count": 21,
   "metadata": {},
   "outputs": [
    {
     "data": {
      "text/html": [
       "<div>\n",
       "<style scoped>\n",
       "    .dataframe tbody tr th:only-of-type {\n",
       "        vertical-align: middle;\n",
       "    }\n",
       "\n",
       "    .dataframe tbody tr th {\n",
       "        vertical-align: top;\n",
       "    }\n",
       "\n",
       "    .dataframe thead th {\n",
       "        text-align: right;\n",
       "    }\n",
       "</style>\n",
       "<table border=\"1\" class=\"dataframe\">\n",
       "  <thead>\n",
       "    <tr style=\"text-align: right;\">\n",
       "      <th></th>\n",
       "      <th>España</th>\n",
       "      <th>Francia</th>\n",
       "      <th>Italia</th>\n",
       "    </tr>\n",
       "  </thead>\n",
       "  <tbody>\n",
       "    <tr>\n",
       "      <th>0</th>\n",
       "      <td>40</td>\n",
       "      <td>51</td>\n",
       "      <td>68</td>\n",
       "    </tr>\n",
       "    <tr>\n",
       "      <th>1</th>\n",
       "      <td>86</td>\n",
       "      <td>78</td>\n",
       "      <td>18</td>\n",
       "    </tr>\n",
       "    <tr>\n",
       "      <th>2</th>\n",
       "      <td>78</td>\n",
       "      <td>44</td>\n",
       "      <td>31</td>\n",
       "    </tr>\n",
       "    <tr>\n",
       "      <th>3</th>\n",
       "      <td>80</td>\n",
       "      <td>19</td>\n",
       "      <td>67</td>\n",
       "    </tr>\n",
       "  </tbody>\n",
       "</table>\n",
       "</div>"
      ],
      "text/plain": [
       "   España  Francia  Italia\n",
       "0      40       51      68\n",
       "1      86       78      18\n",
       "2      78       44      31\n",
       "3      80       19      67"
      ]
     },
     "execution_count": 21,
     "metadata": {},
     "output_type": "execute_result"
    }
   ],
   "source": [
    "# Convertid el array en un dataframe donde las columnas se llamen \"España\", \"Francia\" e \"Italia\".\n",
    "dataframe.rename(columns = {0:\"España\", 1:\"Francia\", 2:\"Italia\"}, inplace = True)\n",
    "dataframe"
   ]
  },
  {
   "cell_type": "code",
   "execution_count": 35,
   "metadata": {},
   "outputs": [
    {
     "data": {
      "text/html": [
       "<div>\n",
       "<style scoped>\n",
       "    .dataframe tbody tr th:only-of-type {\n",
       "        vertical-align: middle;\n",
       "    }\n",
       "\n",
       "    .dataframe tbody tr th {\n",
       "        vertical-align: top;\n",
       "    }\n",
       "\n",
       "    .dataframe thead th {\n",
       "        text-align: right;\n",
       "    }\n",
       "</style>\n",
       "<table border=\"1\" class=\"dataframe\">\n",
       "  <thead>\n",
       "    <tr style=\"text-align: right;\">\n",
       "      <th></th>\n",
       "      <th>Unnamed: 0</th>\n",
       "      <th>Oro</th>\n",
       "      <th>Plata</th>\n",
       "      <th>Bronce</th>\n",
       "    </tr>\n",
       "    <tr>\n",
       "      <th>País</th>\n",
       "      <th></th>\n",
       "      <th></th>\n",
       "      <th></th>\n",
       "      <th></th>\n",
       "    </tr>\n",
       "  </thead>\n",
       "  <tbody>\n",
       "    <tr>\n",
       "      <th>China</th>\n",
       "      <td>1</td>\n",
       "      <td>1473</td>\n",
       "      <td>994</td>\n",
       "      <td>720</td>\n",
       "    </tr>\n",
       "    <tr>\n",
       "      <th>Japón</th>\n",
       "      <td>2</td>\n",
       "      <td>1032</td>\n",
       "      <td>1037</td>\n",
       "      <td>985</td>\n",
       "    </tr>\n",
       "    <tr>\n",
       "      <th>Corea del Sur</th>\n",
       "      <td>3</td>\n",
       "      <td>745</td>\n",
       "      <td>663</td>\n",
       "      <td>827</td>\n",
       "    </tr>\n",
       "    <tr>\n",
       "      <th>Irán</th>\n",
       "      <td>4</td>\n",
       "      <td>179</td>\n",
       "      <td>181</td>\n",
       "      <td>197</td>\n",
       "    </tr>\n",
       "    <tr>\n",
       "      <th>Kazajistán</th>\n",
       "      <td>5</td>\n",
       "      <td>155</td>\n",
       "      <td>158</td>\n",
       "      <td>224</td>\n",
       "    </tr>\n",
       "    <tr>\n",
       "      <th>India</th>\n",
       "      <td>6</td>\n",
       "      <td>154</td>\n",
       "      <td>202</td>\n",
       "      <td>315</td>\n",
       "    </tr>\n",
       "    <tr>\n",
       "      <th>Tailandia</th>\n",
       "      <td>7</td>\n",
       "      <td>132</td>\n",
       "      <td>175</td>\n",
       "      <td>278</td>\n",
       "    </tr>\n",
       "    <tr>\n",
       "      <th>Indonesia</th>\n",
       "      <td>8</td>\n",
       "      <td>112</td>\n",
       "      <td>131</td>\n",
       "      <td>240</td>\n",
       "    </tr>\n",
       "    <tr>\n",
       "      <th>China Taipéi</th>\n",
       "      <td>9</td>\n",
       "      <td>99</td>\n",
       "      <td>144</td>\n",
       "      <td>276</td>\n",
       "    </tr>\n",
       "    <tr>\n",
       "      <th>Corea del Norte</th>\n",
       "      <td>10</td>\n",
       "      <td>91</td>\n",
       "      <td>120</td>\n",
       "      <td>235</td>\n",
       "    </tr>\n",
       "  </tbody>\n",
       "</table>\n",
       "</div>"
      ],
      "text/plain": [
       "                 Unnamed: 0   Oro  Plata  Bronce\n",
       "País                                            \n",
       "China                     1  1473    994     720\n",
       "Japón                     2  1032   1037     985\n",
       "Corea del Sur             3   745    663     827\n",
       "Irán                      4   179    181     197\n",
       "Kazajistán                5   155    158     224\n",
       "India                     6   154    202     315\n",
       "Tailandia                 7   132    175     278\n",
       "Indonesia                 8   112    131     240\n",
       "China Taipéi              9    99    144     276\n",
       "Corea del Norte          10    91    120     235"
      ]
     },
     "execution_count": 35,
     "metadata": {},
     "output_type": "execute_result"
    }
   ],
   "source": [
    "# Descargad el archivo \"medallas\" y cargad el dataframe con la siguiente líena de código:\n",
    "df = pd.read_csv(\"medallas.csv\", index_col=[\"País\"])\n",
    "df"
   ]
  },
  {
   "cell_type": "code",
   "execution_count": 36,
   "metadata": {},
   "outputs": [
    {
     "data": {
      "text/plain": [
       "Unnamed: 0       1\n",
       "Oro           1473\n",
       "Plata          994\n",
       "Bronce         720\n",
       "Name: China, dtype: int64"
      ]
     },
     "execution_count": 36,
     "metadata": {},
     "output_type": "execute_result"
    }
   ],
   "source": [
    "# 📌 NOTA Para evitar problemas guardar el archivo medallas.csv a la misma altura que el jupyter donde estamos trabajando.\n",
    "# Usando el loc extraed todas las columnas de la fila.\n",
    "df.loc[\"China\",:]"
   ]
  },
  {
   "cell_type": "code",
   "execution_count": 37,
   "metadata": {},
   "outputs": [
    {
     "data": {
      "text/html": [
       "<div>\n",
       "<style scoped>\n",
       "    .dataframe tbody tr th:only-of-type {\n",
       "        vertical-align: middle;\n",
       "    }\n",
       "\n",
       "    .dataframe tbody tr th {\n",
       "        vertical-align: top;\n",
       "    }\n",
       "\n",
       "    .dataframe thead th {\n",
       "        text-align: right;\n",
       "    }\n",
       "</style>\n",
       "<table border=\"1\" class=\"dataframe\">\n",
       "  <thead>\n",
       "    <tr style=\"text-align: right;\">\n",
       "      <th></th>\n",
       "      <th>Unnamed: 0</th>\n",
       "      <th>Oro</th>\n",
       "      <th>Plata</th>\n",
       "      <th>Bronce</th>\n",
       "    </tr>\n",
       "    <tr>\n",
       "      <th>País</th>\n",
       "      <th></th>\n",
       "      <th></th>\n",
       "      <th></th>\n",
       "      <th></th>\n",
       "    </tr>\n",
       "  </thead>\n",
       "  <tbody>\n",
       "    <tr>\n",
       "      <th>China</th>\n",
       "      <td>1</td>\n",
       "      <td>1473</td>\n",
       "      <td>994</td>\n",
       "      <td>720</td>\n",
       "    </tr>\n",
       "    <tr>\n",
       "      <th>Irán</th>\n",
       "      <td>4</td>\n",
       "      <td>179</td>\n",
       "      <td>181</td>\n",
       "      <td>197</td>\n",
       "    </tr>\n",
       "  </tbody>\n",
       "</table>\n",
       "</div>"
      ],
      "text/plain": [
       "       Unnamed: 0   Oro  Plata  Bronce\n",
       "País                                  \n",
       "China           1  1473    994     720\n",
       "Irán            4   179    181     197"
      ]
     },
     "execution_count": 37,
     "metadata": {},
     "output_type": "execute_result"
    }
   ],
   "source": [
    "# Usando el loc extraed todas las columnas de China e Irán.\n",
    "df.loc[[\"China\",\"Irán\"],:]"
   ]
  },
  {
   "cell_type": "code",
   "execution_count": 38,
   "metadata": {},
   "outputs": [
    {
     "data": {
      "text/html": [
       "<div>\n",
       "<style scoped>\n",
       "    .dataframe tbody tr th:only-of-type {\n",
       "        vertical-align: middle;\n",
       "    }\n",
       "\n",
       "    .dataframe tbody tr th {\n",
       "        vertical-align: top;\n",
       "    }\n",
       "\n",
       "    .dataframe thead th {\n",
       "        text-align: right;\n",
       "    }\n",
       "</style>\n",
       "<table border=\"1\" class=\"dataframe\">\n",
       "  <thead>\n",
       "    <tr style=\"text-align: right;\">\n",
       "      <th></th>\n",
       "      <th>Oro</th>\n",
       "      <th>Plata</th>\n",
       "      <th>Bronce</th>\n",
       "    </tr>\n",
       "    <tr>\n",
       "      <th>País</th>\n",
       "      <th></th>\n",
       "      <th></th>\n",
       "      <th></th>\n",
       "    </tr>\n",
       "  </thead>\n",
       "  <tbody>\n",
       "    <tr>\n",
       "      <th>China</th>\n",
       "      <td>1473</td>\n",
       "      <td>994</td>\n",
       "      <td>720</td>\n",
       "    </tr>\n",
       "    <tr>\n",
       "      <th>Irán</th>\n",
       "      <td>179</td>\n",
       "      <td>181</td>\n",
       "      <td>197</td>\n",
       "    </tr>\n",
       "  </tbody>\n",
       "</table>\n",
       "</div>"
      ],
      "text/plain": [
       "        Oro  Plata  Bronce\n",
       "País                      \n",
       "China  1473    994     720\n",
       "Irán    179    181     197"
      ]
     },
     "execution_count": 38,
     "metadata": {},
     "output_type": "execute_result"
    }
   ],
   "source": [
    "# Usando el loc extraed solo las columnas de \"Oro\", \"Plata\" y \"Bronce\" de China e Irán.\n",
    "df.loc[[\"China\",\"Irán\"],[\"Oro\", \"Plata\", \"Bronce\"]]"
   ]
  },
  {
   "cell_type": "code",
   "execution_count": 50,
   "metadata": {},
   "outputs": [
    {
     "ename": "TypeError",
     "evalue": "'('India', slice(None, None, None))' is an invalid key",
     "output_type": "error",
     "traceback": [
      "\u001b[0;31m---------------------------------------------------------------------------\u001b[0m",
      "\u001b[0;31mTypeError\u001b[0m                                 Traceback (most recent call last)",
      "\u001b[0;32m/tmp/ipykernel_386/3492795103.py\u001b[0m in \u001b[0;36m<module>\u001b[0;34m\u001b[0m\n\u001b[1;32m      3\u001b[0m \u001b[0;31m# indice_india = df.iloc[\"India\",:]\u001b[0m\u001b[0;34m\u001b[0m\u001b[0;34m\u001b[0m\u001b[0m\n\u001b[1;32m      4\u001b[0m \u001b[0;31m# indice_india\u001b[0m\u001b[0;34m\u001b[0m\u001b[0;34m\u001b[0m\u001b[0m\n\u001b[0;32m----> 5\u001b[0;31m \u001b[0mdf\u001b[0m\u001b[0;34m[\u001b[0m\u001b[0;34m\"India\"\u001b[0m\u001b[0;34m,\u001b[0m\u001b[0;34m:\u001b[0m\u001b[0;34m]\u001b[0m\u001b[0;34m\u001b[0m\u001b[0;34m\u001b[0m\u001b[0m\n\u001b[0m\u001b[1;32m      6\u001b[0m \u001b[0;31m# df.iloc[indice_india - 1]\u001b[0m\u001b[0;34m\u001b[0m\u001b[0;34m\u001b[0m\u001b[0m\n",
      "\u001b[0;32m~/anaconda3/lib/python3.9/site-packages/pandas/core/frame.py\u001b[0m in \u001b[0;36m__getitem__\u001b[0;34m(self, key)\u001b[0m\n\u001b[1;32m   3456\u001b[0m             \u001b[0;32mif\u001b[0m \u001b[0mself\u001b[0m\u001b[0;34m.\u001b[0m\u001b[0mcolumns\u001b[0m\u001b[0;34m.\u001b[0m\u001b[0mnlevels\u001b[0m \u001b[0;34m>\u001b[0m \u001b[0;36m1\u001b[0m\u001b[0;34m:\u001b[0m\u001b[0;34m\u001b[0m\u001b[0;34m\u001b[0m\u001b[0m\n\u001b[1;32m   3457\u001b[0m                 \u001b[0;32mreturn\u001b[0m \u001b[0mself\u001b[0m\u001b[0;34m.\u001b[0m\u001b[0m_getitem_multilevel\u001b[0m\u001b[0;34m(\u001b[0m\u001b[0mkey\u001b[0m\u001b[0;34m)\u001b[0m\u001b[0;34m\u001b[0m\u001b[0;34m\u001b[0m\u001b[0m\n\u001b[0;32m-> 3458\u001b[0;31m             \u001b[0mindexer\u001b[0m \u001b[0;34m=\u001b[0m \u001b[0mself\u001b[0m\u001b[0;34m.\u001b[0m\u001b[0mcolumns\u001b[0m\u001b[0;34m.\u001b[0m\u001b[0mget_loc\u001b[0m\u001b[0;34m(\u001b[0m\u001b[0mkey\u001b[0m\u001b[0;34m)\u001b[0m\u001b[0;34m\u001b[0m\u001b[0;34m\u001b[0m\u001b[0m\n\u001b[0m\u001b[1;32m   3459\u001b[0m             \u001b[0;32mif\u001b[0m \u001b[0mis_integer\u001b[0m\u001b[0;34m(\u001b[0m\u001b[0mindexer\u001b[0m\u001b[0;34m)\u001b[0m\u001b[0;34m:\u001b[0m\u001b[0;34m\u001b[0m\u001b[0;34m\u001b[0m\u001b[0m\n\u001b[1;32m   3460\u001b[0m                 \u001b[0mindexer\u001b[0m \u001b[0;34m=\u001b[0m \u001b[0;34m[\u001b[0m\u001b[0mindexer\u001b[0m\u001b[0;34m]\u001b[0m\u001b[0;34m\u001b[0m\u001b[0;34m\u001b[0m\u001b[0m\n",
      "\u001b[0;32m~/anaconda3/lib/python3.9/site-packages/pandas/core/indexes/base.py\u001b[0m in \u001b[0;36mget_loc\u001b[0;34m(self, key, method, tolerance)\u001b[0m\n\u001b[1;32m   3359\u001b[0m             \u001b[0mcasted_key\u001b[0m \u001b[0;34m=\u001b[0m \u001b[0mself\u001b[0m\u001b[0;34m.\u001b[0m\u001b[0m_maybe_cast_indexer\u001b[0m\u001b[0;34m(\u001b[0m\u001b[0mkey\u001b[0m\u001b[0;34m)\u001b[0m\u001b[0;34m\u001b[0m\u001b[0;34m\u001b[0m\u001b[0m\n\u001b[1;32m   3360\u001b[0m             \u001b[0;32mtry\u001b[0m\u001b[0;34m:\u001b[0m\u001b[0;34m\u001b[0m\u001b[0;34m\u001b[0m\u001b[0m\n\u001b[0;32m-> 3361\u001b[0;31m                 \u001b[0;32mreturn\u001b[0m \u001b[0mself\u001b[0m\u001b[0;34m.\u001b[0m\u001b[0m_engine\u001b[0m\u001b[0;34m.\u001b[0m\u001b[0mget_loc\u001b[0m\u001b[0;34m(\u001b[0m\u001b[0mcasted_key\u001b[0m\u001b[0;34m)\u001b[0m\u001b[0;34m\u001b[0m\u001b[0;34m\u001b[0m\u001b[0m\n\u001b[0m\u001b[1;32m   3362\u001b[0m             \u001b[0;32mexcept\u001b[0m \u001b[0mKeyError\u001b[0m \u001b[0;32mas\u001b[0m \u001b[0merr\u001b[0m\u001b[0;34m:\u001b[0m\u001b[0;34m\u001b[0m\u001b[0;34m\u001b[0m\u001b[0m\n\u001b[1;32m   3363\u001b[0m                 \u001b[0;32mraise\u001b[0m \u001b[0mKeyError\u001b[0m\u001b[0;34m(\u001b[0m\u001b[0mkey\u001b[0m\u001b[0;34m)\u001b[0m \u001b[0;32mfrom\u001b[0m \u001b[0merr\u001b[0m\u001b[0;34m\u001b[0m\u001b[0;34m\u001b[0m\u001b[0m\n",
      "\u001b[0;32m~/anaconda3/lib/python3.9/site-packages/pandas/_libs/index.pyx\u001b[0m in \u001b[0;36mpandas._libs.index.IndexEngine.get_loc\u001b[0;34m()\u001b[0m\n",
      "\u001b[0;32m~/anaconda3/lib/python3.9/site-packages/pandas/_libs/index.pyx\u001b[0m in \u001b[0;36mpandas._libs.index.IndexEngine.get_loc\u001b[0;34m()\u001b[0m\n",
      "\u001b[0;31mTypeError\u001b[0m: '('India', slice(None, None, None))' is an invalid key"
     ]
    }
   ],
   "source": [
    "###################################\n",
    "# Usando el iloc extraed la información de la India. Devolved todas las columnas\n",
    "\n",
    "# indice_india = df.iloc[\"India\",:]\n",
    "# indice_india\n",
    "df[\"India\",:]\n",
    "# df.iloc[indice_india - 1]"
   ]
  },
  {
   "cell_type": "code",
   "execution_count": 54,
   "metadata": {},
   "outputs": [
    {
     "data": {
      "text/html": [
       "<div>\n",
       "<style scoped>\n",
       "    .dataframe tbody tr th:only-of-type {\n",
       "        vertical-align: middle;\n",
       "    }\n",
       "\n",
       "    .dataframe tbody tr th {\n",
       "        vertical-align: top;\n",
       "    }\n",
       "\n",
       "    .dataframe thead th {\n",
       "        text-align: right;\n",
       "    }\n",
       "</style>\n",
       "<table border=\"1\" class=\"dataframe\">\n",
       "  <thead>\n",
       "    <tr style=\"text-align: right;\">\n",
       "      <th></th>\n",
       "      <th>Unnamed: 0</th>\n",
       "      <th>Oro</th>\n",
       "      <th>Plata</th>\n",
       "      <th>Bronce</th>\n",
       "    </tr>\n",
       "    <tr>\n",
       "      <th>País</th>\n",
       "      <th></th>\n",
       "      <th></th>\n",
       "      <th></th>\n",
       "      <th></th>\n",
       "    </tr>\n",
       "  </thead>\n",
       "  <tbody>\n",
       "    <tr>\n",
       "      <th>Japón</th>\n",
       "      <td>2</td>\n",
       "      <td>1032</td>\n",
       "      <td>1037</td>\n",
       "      <td>985</td>\n",
       "    </tr>\n",
       "    <tr>\n",
       "      <th>Irán</th>\n",
       "      <td>4</td>\n",
       "      <td>179</td>\n",
       "      <td>181</td>\n",
       "      <td>197</td>\n",
       "    </tr>\n",
       "    <tr>\n",
       "      <th>India</th>\n",
       "      <td>6</td>\n",
       "      <td>154</td>\n",
       "      <td>202</td>\n",
       "      <td>315</td>\n",
       "    </tr>\n",
       "    <tr>\n",
       "      <th>Indonesia</th>\n",
       "      <td>8</td>\n",
       "      <td>112</td>\n",
       "      <td>131</td>\n",
       "      <td>240</td>\n",
       "    </tr>\n",
       "    <tr>\n",
       "      <th>Corea del Norte</th>\n",
       "      <td>10</td>\n",
       "      <td>91</td>\n",
       "      <td>120</td>\n",
       "      <td>235</td>\n",
       "    </tr>\n",
       "  </tbody>\n",
       "</table>\n",
       "</div>"
      ],
      "text/plain": [
       "                 Unnamed: 0   Oro  Plata  Bronce\n",
       "País                                            \n",
       "Japón                     2  1032   1037     985\n",
       "Irán                      4   179    181     197\n",
       "India                     6   154    202     315\n",
       "Indonesia                 8   112    131     240\n",
       "Corea del Norte          10    91    120     235"
      ]
     },
     "execution_count": 54,
     "metadata": {},
     "output_type": "execute_result"
    }
   ],
   "source": [
    "# Usando el iloc extraed todas las columnas de los paises que estén en posición impar. \n",
    "# La primera que nos tendría que salir es Japón y la última Corea del Norte.\n",
    "\n",
    "df.iloc[1:10:2]\n",
    "\n",
    "# 🌷asumimos posición impar como índice impar"
   ]
  },
  {
   "cell_type": "code",
   "execution_count": 52,
   "metadata": {},
   "outputs": [
    {
     "data": {
      "text/html": [
       "<div>\n",
       "<style scoped>\n",
       "    .dataframe tbody tr th:only-of-type {\n",
       "        vertical-align: middle;\n",
       "    }\n",
       "\n",
       "    .dataframe tbody tr th {\n",
       "        vertical-align: top;\n",
       "    }\n",
       "\n",
       "    .dataframe thead th {\n",
       "        text-align: right;\n",
       "    }\n",
       "</style>\n",
       "<table border=\"1\" class=\"dataframe\">\n",
       "  <thead>\n",
       "    <tr style=\"text-align: right;\">\n",
       "      <th></th>\n",
       "      <th>Unnamed: 0</th>\n",
       "      <th>Oro</th>\n",
       "      <th>Plata</th>\n",
       "      <th>Bronce</th>\n",
       "    </tr>\n",
       "    <tr>\n",
       "      <th>País</th>\n",
       "      <th></th>\n",
       "      <th></th>\n",
       "      <th></th>\n",
       "      <th></th>\n",
       "    </tr>\n",
       "  </thead>\n",
       "  <tbody>\n",
       "    <tr>\n",
       "      <th>China</th>\n",
       "      <td>1</td>\n",
       "      <td>1473</td>\n",
       "      <td>994</td>\n",
       "      <td>720</td>\n",
       "    </tr>\n",
       "    <tr>\n",
       "      <th>Japón</th>\n",
       "      <td>2</td>\n",
       "      <td>1032</td>\n",
       "      <td>1037</td>\n",
       "      <td>985</td>\n",
       "    </tr>\n",
       "    <tr>\n",
       "      <th>Corea del Sur</th>\n",
       "      <td>3</td>\n",
       "      <td>745</td>\n",
       "      <td>663</td>\n",
       "      <td>827</td>\n",
       "    </tr>\n",
       "    <tr>\n",
       "      <th>Irán</th>\n",
       "      <td>4</td>\n",
       "      <td>179</td>\n",
       "      <td>181</td>\n",
       "      <td>197</td>\n",
       "    </tr>\n",
       "    <tr>\n",
       "      <th>Kazajistán</th>\n",
       "      <td>5</td>\n",
       "      <td>155</td>\n",
       "      <td>158</td>\n",
       "      <td>224</td>\n",
       "    </tr>\n",
       "    <tr>\n",
       "      <th>India</th>\n",
       "      <td>6</td>\n",
       "      <td>154</td>\n",
       "      <td>202</td>\n",
       "      <td>315</td>\n",
       "    </tr>\n",
       "    <tr>\n",
       "      <th>Tailandia</th>\n",
       "      <td>7</td>\n",
       "      <td>132</td>\n",
       "      <td>175</td>\n",
       "      <td>278</td>\n",
       "    </tr>\n",
       "    <tr>\n",
       "      <th>Indonesia</th>\n",
       "      <td>8</td>\n",
       "      <td>112</td>\n",
       "      <td>131</td>\n",
       "      <td>240</td>\n",
       "    </tr>\n",
       "    <tr>\n",
       "      <th>China Taipéi</th>\n",
       "      <td>9</td>\n",
       "      <td>99</td>\n",
       "      <td>144</td>\n",
       "      <td>276</td>\n",
       "    </tr>\n",
       "    <tr>\n",
       "      <th>Corea del Norte</th>\n",
       "      <td>10</td>\n",
       "      <td>91</td>\n",
       "      <td>120</td>\n",
       "      <td>235</td>\n",
       "    </tr>\n",
       "  </tbody>\n",
       "</table>\n",
       "</div>"
      ],
      "text/plain": [
       "                 Unnamed: 0   Oro  Plata  Bronce\n",
       "País                                            \n",
       "China                     1  1473    994     720\n",
       "Japón                     2  1032   1037     985\n",
       "Corea del Sur             3   745    663     827\n",
       "Irán                      4   179    181     197\n",
       "Kazajistán                5   155    158     224\n",
       "India                     6   154    202     315\n",
       "Tailandia                 7   132    175     278\n",
       "Indonesia                 8   112    131     240\n",
       "China Taipéi              9    99    144     276\n",
       "Corea del Norte          10    91    120     235"
      ]
     },
     "execution_count": 52,
     "metadata": {},
     "output_type": "execute_result"
    }
   ],
   "source": [
    "#comprando que son los países impares\n",
    "df"
   ]
  },
  {
   "cell_type": "code",
   "execution_count": 56,
   "metadata": {},
   "outputs": [
    {
     "ename": "SyntaxError",
     "evalue": "invalid syntax (3780749530.py, line 2)",
     "output_type": "error",
     "traceback": [
      "\u001b[0;36m  File \u001b[0;32m\"/tmp/ipykernel_386/3780749530.py\"\u001b[0;36m, line \u001b[0;32m2\u001b[0m\n\u001b[0;31m    df.iloc([1:10:2],[1:4])\u001b[0m\n\u001b[0m              ^\u001b[0m\n\u001b[0;31mSyntaxError\u001b[0m\u001b[0;31m:\u001b[0m invalid syntax\n"
     ]
    }
   ],
   "source": [
    "#####################################\n",
    "# Utilizando el código del ejercicio anterior, seleccionad unicamente las columnas \"Oro\", \"Plata\" y \"Bronce\".\n",
    "df.iloc[[1:10:2],1:4]"
   ]
  },
  {
   "cell_type": "code",
   "execution_count": 57,
   "metadata": {},
   "outputs": [
    {
     "data": {
      "text/html": [
       "<div>\n",
       "<style scoped>\n",
       "    .dataframe tbody tr th:only-of-type {\n",
       "        vertical-align: middle;\n",
       "    }\n",
       "\n",
       "    .dataframe tbody tr th {\n",
       "        vertical-align: top;\n",
       "    }\n",
       "\n",
       "    .dataframe thead th {\n",
       "        text-align: right;\n",
       "    }\n",
       "</style>\n",
       "<table border=\"1\" class=\"dataframe\">\n",
       "  <thead>\n",
       "    <tr style=\"text-align: right;\">\n",
       "      <th></th>\n",
       "      <th>Unnamed: 0</th>\n",
       "      <th>Oro</th>\n",
       "      <th>Plata</th>\n",
       "      <th>Bronce</th>\n",
       "    </tr>\n",
       "    <tr>\n",
       "      <th>País</th>\n",
       "      <th></th>\n",
       "      <th></th>\n",
       "      <th></th>\n",
       "      <th></th>\n",
       "    </tr>\n",
       "  </thead>\n",
       "  <tbody>\n",
       "    <tr>\n",
       "      <th>China</th>\n",
       "      <td>1</td>\n",
       "      <td>1473</td>\n",
       "      <td>994</td>\n",
       "      <td>720</td>\n",
       "    </tr>\n",
       "    <tr>\n",
       "      <th>Japón</th>\n",
       "      <td>2</td>\n",
       "      <td>1032</td>\n",
       "      <td>1037</td>\n",
       "      <td>985</td>\n",
       "    </tr>\n",
       "    <tr>\n",
       "      <th>Corea del Sur</th>\n",
       "      <td>3</td>\n",
       "      <td>745</td>\n",
       "      <td>663</td>\n",
       "      <td>827</td>\n",
       "    </tr>\n",
       "  </tbody>\n",
       "</table>\n",
       "</div>"
      ],
      "text/plain": [
       "               Unnamed: 0   Oro  Plata  Bronce\n",
       "País                                          \n",
       "China                   1  1473    994     720\n",
       "Japón                   2  1032   1037     985\n",
       "Corea del Sur           3   745    663     827"
      ]
     },
     "execution_count": 57,
     "metadata": {},
     "output_type": "execute_result"
    }
   ],
   "source": [
    "# ¿Qué país consiguió más de 200 medallas de oro?\n",
    "df.loc[df.Oro > 200,:]"
   ]
  },
  {
   "cell_type": "code",
   "execution_count": 58,
   "metadata": {},
   "outputs": [
    {
     "data": {
      "text/html": [
       "<div>\n",
       "<style scoped>\n",
       "    .dataframe tbody tr th:only-of-type {\n",
       "        vertical-align: middle;\n",
       "    }\n",
       "\n",
       "    .dataframe tbody tr th {\n",
       "        vertical-align: top;\n",
       "    }\n",
       "\n",
       "    .dataframe thead th {\n",
       "        text-align: right;\n",
       "    }\n",
       "</style>\n",
       "<table border=\"1\" class=\"dataframe\">\n",
       "  <thead>\n",
       "    <tr style=\"text-align: right;\">\n",
       "      <th></th>\n",
       "      <th>Unnamed: 0</th>\n",
       "      <th>Oro</th>\n",
       "      <th>Plata</th>\n",
       "      <th>Bronce</th>\n",
       "    </tr>\n",
       "    <tr>\n",
       "      <th>País</th>\n",
       "      <th></th>\n",
       "      <th></th>\n",
       "      <th></th>\n",
       "      <th></th>\n",
       "    </tr>\n",
       "  </thead>\n",
       "  <tbody>\n",
       "    <tr>\n",
       "      <th>Japón</th>\n",
       "      <td>2</td>\n",
       "      <td>1032</td>\n",
       "      <td>1037</td>\n",
       "      <td>985</td>\n",
       "    </tr>\n",
       "  </tbody>\n",
       "</table>\n",
       "</div>"
      ],
      "text/plain": [
       "       Unnamed: 0   Oro  Plata  Bronce\n",
       "País                                  \n",
       "Japón           2  1032   1037     985"
      ]
     },
     "execution_count": 58,
     "metadata": {},
     "output_type": "execute_result"
    }
   ],
   "source": [
    "# ¿Qué país consiguió más de 200 medallas de oro y más de 1000 de plata?\n",
    "df.loc[(df.Oro > 200) & (df.Plata > 1000)]"
   ]
  },
  {
   "cell_type": "code",
   "execution_count": 59,
   "metadata": {},
   "outputs": [
    {
     "data": {
      "text/html": [
       "<div>\n",
       "<style scoped>\n",
       "    .dataframe tbody tr th:only-of-type {\n",
       "        vertical-align: middle;\n",
       "    }\n",
       "\n",
       "    .dataframe tbody tr th {\n",
       "        vertical-align: top;\n",
       "    }\n",
       "\n",
       "    .dataframe thead th {\n",
       "        text-align: right;\n",
       "    }\n",
       "</style>\n",
       "<table border=\"1\" class=\"dataframe\">\n",
       "  <thead>\n",
       "    <tr style=\"text-align: right;\">\n",
       "      <th></th>\n",
       "      <th>Unnamed: 0</th>\n",
       "      <th>Oro</th>\n",
       "      <th>Plata</th>\n",
       "      <th>Bronce</th>\n",
       "    </tr>\n",
       "    <tr>\n",
       "      <th>País</th>\n",
       "      <th></th>\n",
       "      <th></th>\n",
       "      <th></th>\n",
       "      <th></th>\n",
       "    </tr>\n",
       "  </thead>\n",
       "  <tbody>\n",
       "    <tr>\n",
       "      <th>China</th>\n",
       "      <td>1</td>\n",
       "      <td>1473</td>\n",
       "      <td>994</td>\n",
       "      <td>720</td>\n",
       "    </tr>\n",
       "    <tr>\n",
       "      <th>Japón</th>\n",
       "      <td>2</td>\n",
       "      <td>1032</td>\n",
       "      <td>1037</td>\n",
       "      <td>985</td>\n",
       "    </tr>\n",
       "    <tr>\n",
       "      <th>Corea del Sur</th>\n",
       "      <td>3</td>\n",
       "      <td>745</td>\n",
       "      <td>663</td>\n",
       "      <td>827</td>\n",
       "    </tr>\n",
       "  </tbody>\n",
       "</table>\n",
       "</div>"
      ],
      "text/plain": [
       "               Unnamed: 0   Oro  Plata  Bronce\n",
       "País                                          \n",
       "China                   1  1473    994     720\n",
       "Japón                   2  1032   1037     985\n",
       "Corea del Sur           3   745    663     827"
      ]
     },
     "execution_count": 59,
     "metadata": {},
     "output_type": "execute_result"
    }
   ],
   "source": [
    "# ¿Qué país consiguió más de 200 medallas de oro o más de 700 de bronce?\n",
    "df.loc[(df.Oro > 200) | (df.Plata > 700)]"
   ]
  },
  {
   "cell_type": "code",
   "execution_count": 60,
   "metadata": {},
   "outputs": [],
   "source": [
    "# Como vemos hay una columna que se llama Unnamed: 0 que no nos interesa. Eliminad esa columna.\n",
    "df2 = df.copy()"
   ]
  },
  {
   "cell_type": "code",
   "execution_count": 61,
   "metadata": {},
   "outputs": [
    {
     "data": {
      "text/html": [
       "<div>\n",
       "<style scoped>\n",
       "    .dataframe tbody tr th:only-of-type {\n",
       "        vertical-align: middle;\n",
       "    }\n",
       "\n",
       "    .dataframe tbody tr th {\n",
       "        vertical-align: top;\n",
       "    }\n",
       "\n",
       "    .dataframe thead th {\n",
       "        text-align: right;\n",
       "    }\n",
       "</style>\n",
       "<table border=\"1\" class=\"dataframe\">\n",
       "  <thead>\n",
       "    <tr style=\"text-align: right;\">\n",
       "      <th></th>\n",
       "      <th>Oro</th>\n",
       "      <th>Plata</th>\n",
       "      <th>Bronce</th>\n",
       "    </tr>\n",
       "    <tr>\n",
       "      <th>País</th>\n",
       "      <th></th>\n",
       "      <th></th>\n",
       "      <th></th>\n",
       "    </tr>\n",
       "  </thead>\n",
       "  <tbody>\n",
       "    <tr>\n",
       "      <th>China</th>\n",
       "      <td>1473</td>\n",
       "      <td>994</td>\n",
       "      <td>720</td>\n",
       "    </tr>\n",
       "    <tr>\n",
       "      <th>Japón</th>\n",
       "      <td>1032</td>\n",
       "      <td>1037</td>\n",
       "      <td>985</td>\n",
       "    </tr>\n",
       "    <tr>\n",
       "      <th>Corea del Sur</th>\n",
       "      <td>745</td>\n",
       "      <td>663</td>\n",
       "      <td>827</td>\n",
       "    </tr>\n",
       "    <tr>\n",
       "      <th>Irán</th>\n",
       "      <td>179</td>\n",
       "      <td>181</td>\n",
       "      <td>197</td>\n",
       "    </tr>\n",
       "    <tr>\n",
       "      <th>Kazajistán</th>\n",
       "      <td>155</td>\n",
       "      <td>158</td>\n",
       "      <td>224</td>\n",
       "    </tr>\n",
       "    <tr>\n",
       "      <th>India</th>\n",
       "      <td>154</td>\n",
       "      <td>202</td>\n",
       "      <td>315</td>\n",
       "    </tr>\n",
       "    <tr>\n",
       "      <th>Tailandia</th>\n",
       "      <td>132</td>\n",
       "      <td>175</td>\n",
       "      <td>278</td>\n",
       "    </tr>\n",
       "    <tr>\n",
       "      <th>Indonesia</th>\n",
       "      <td>112</td>\n",
       "      <td>131</td>\n",
       "      <td>240</td>\n",
       "    </tr>\n",
       "    <tr>\n",
       "      <th>China Taipéi</th>\n",
       "      <td>99</td>\n",
       "      <td>144</td>\n",
       "      <td>276</td>\n",
       "    </tr>\n",
       "    <tr>\n",
       "      <th>Corea del Norte</th>\n",
       "      <td>91</td>\n",
       "      <td>120</td>\n",
       "      <td>235</td>\n",
       "    </tr>\n",
       "  </tbody>\n",
       "</table>\n",
       "</div>"
      ],
      "text/plain": [
       "                  Oro  Plata  Bronce\n",
       "País                                \n",
       "China            1473    994     720\n",
       "Japón            1032   1037     985\n",
       "Corea del Sur     745    663     827\n",
       "Irán              179    181     197\n",
       "Kazajistán        155    158     224\n",
       "India             154    202     315\n",
       "Tailandia         132    175     278\n",
       "Indonesia         112    131     240\n",
       "China Taipéi       99    144     276\n",
       "Corea del Norte    91    120     235"
      ]
     },
     "execution_count": 61,
     "metadata": {},
     "output_type": "execute_result"
    }
   ],
   "source": [
    "# df2.drop(df2.loc(\"Unnamed: 0\"))\n",
    "df2.drop(\"Unnamed: 0\", inplace=True, axis=1) \n",
    "df2"
   ]
  },
  {
   "cell_type": "code",
   "execution_count": 62,
   "metadata": {},
   "outputs": [
    {
     "data": {
      "text/html": [
       "<div>\n",
       "<style scoped>\n",
       "    .dataframe tbody tr th:only-of-type {\n",
       "        vertical-align: middle;\n",
       "    }\n",
       "\n",
       "    .dataframe tbody tr th {\n",
       "        vertical-align: top;\n",
       "    }\n",
       "\n",
       "    .dataframe thead th {\n",
       "        text-align: right;\n",
       "    }\n",
       "</style>\n",
       "<table border=\"1\" class=\"dataframe\">\n",
       "  <thead>\n",
       "    <tr style=\"text-align: right;\">\n",
       "      <th></th>\n",
       "      <th>Unnamed: 0</th>\n",
       "      <th>Oro</th>\n",
       "      <th>Plata</th>\n",
       "      <th>Bronce</th>\n",
       "      <th>Total</th>\n",
       "    </tr>\n",
       "    <tr>\n",
       "      <th>País</th>\n",
       "      <th></th>\n",
       "      <th></th>\n",
       "      <th></th>\n",
       "      <th></th>\n",
       "      <th></th>\n",
       "    </tr>\n",
       "  </thead>\n",
       "  <tbody>\n",
       "    <tr>\n",
       "      <th>China</th>\n",
       "      <td>1</td>\n",
       "      <td>1473</td>\n",
       "      <td>994</td>\n",
       "      <td>720</td>\n",
       "      <td>3187</td>\n",
       "    </tr>\n",
       "    <tr>\n",
       "      <th>Japón</th>\n",
       "      <td>2</td>\n",
       "      <td>1032</td>\n",
       "      <td>1037</td>\n",
       "      <td>985</td>\n",
       "      <td>3054</td>\n",
       "    </tr>\n",
       "    <tr>\n",
       "      <th>Corea del Sur</th>\n",
       "      <td>3</td>\n",
       "      <td>745</td>\n",
       "      <td>663</td>\n",
       "      <td>827</td>\n",
       "      <td>2235</td>\n",
       "    </tr>\n",
       "    <tr>\n",
       "      <th>Irán</th>\n",
       "      <td>4</td>\n",
       "      <td>179</td>\n",
       "      <td>181</td>\n",
       "      <td>197</td>\n",
       "      <td>557</td>\n",
       "    </tr>\n",
       "    <tr>\n",
       "      <th>Kazajistán</th>\n",
       "      <td>5</td>\n",
       "      <td>155</td>\n",
       "      <td>158</td>\n",
       "      <td>224</td>\n",
       "      <td>537</td>\n",
       "    </tr>\n",
       "    <tr>\n",
       "      <th>India</th>\n",
       "      <td>6</td>\n",
       "      <td>154</td>\n",
       "      <td>202</td>\n",
       "      <td>315</td>\n",
       "      <td>671</td>\n",
       "    </tr>\n",
       "    <tr>\n",
       "      <th>Tailandia</th>\n",
       "      <td>7</td>\n",
       "      <td>132</td>\n",
       "      <td>175</td>\n",
       "      <td>278</td>\n",
       "      <td>585</td>\n",
       "    </tr>\n",
       "    <tr>\n",
       "      <th>Indonesia</th>\n",
       "      <td>8</td>\n",
       "      <td>112</td>\n",
       "      <td>131</td>\n",
       "      <td>240</td>\n",
       "      <td>483</td>\n",
       "    </tr>\n",
       "    <tr>\n",
       "      <th>China Taipéi</th>\n",
       "      <td>9</td>\n",
       "      <td>99</td>\n",
       "      <td>144</td>\n",
       "      <td>276</td>\n",
       "      <td>519</td>\n",
       "    </tr>\n",
       "    <tr>\n",
       "      <th>Corea del Norte</th>\n",
       "      <td>10</td>\n",
       "      <td>91</td>\n",
       "      <td>120</td>\n",
       "      <td>235</td>\n",
       "      <td>446</td>\n",
       "    </tr>\n",
       "  </tbody>\n",
       "</table>\n",
       "</div>"
      ],
      "text/plain": [
       "                 Unnamed: 0   Oro  Plata  Bronce  Total\n",
       "País                                                   \n",
       "China                     1  1473    994     720   3187\n",
       "Japón                     2  1032   1037     985   3054\n",
       "Corea del Sur             3   745    663     827   2235\n",
       "Irán                      4   179    181     197    557\n",
       "Kazajistán                5   155    158     224    537\n",
       "India                     6   154    202     315    671\n",
       "Tailandia                 7   132    175     278    585\n",
       "Indonesia                 8   112    131     240    483\n",
       "China Taipéi              9    99    144     276    519\n",
       "Corea del Norte          10    91    120     235    446"
      ]
     },
     "execution_count": 62,
     "metadata": {},
     "output_type": "execute_result"
    }
   ],
   "source": [
    "# Cread una nueva columma que se llame \"total\" que sea el resultado de la suma de todas las medallas obtenidas por cada país.\n",
    "df[\"Total\"] = (df[\"Oro\"]+ df[\"Plata\"] + df[\"Bronce\"])\n",
    "df"
   ]
  }
 ],
 "metadata": {
  "interpreter": {
   "hash": "a2a25da4702e7ca1aacc8a7d4e81059851e19fd1060402175b35fae4c2a518e8"
  },
  "kernelspec": {
   "display_name": "Python 3.9.7 ('base')",
   "language": "python",
   "name": "python3"
  },
  "language_info": {
   "codemirror_mode": {
    "name": "ipython",
    "version": 3
   },
   "file_extension": ".py",
   "mimetype": "text/x-python",
   "name": "python",
   "nbconvert_exporter": "python",
   "pygments_lexer": "ipython3",
   "version": "3.9.7"
  },
  "orig_nbformat": 4
 },
 "nbformat": 4,
 "nbformat_minor": 2
}
