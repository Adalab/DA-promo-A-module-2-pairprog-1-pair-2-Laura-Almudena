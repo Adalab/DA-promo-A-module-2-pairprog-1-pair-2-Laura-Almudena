{
 "cells": [
  {
   "cell_type": "code",
   "execution_count": null,
   "metadata": {},
   "outputs": [],
   "source": [
    "# Es el momento de poner en práctica los groupbyde pandas. Para esto vamos a trabajar con el csv creado en el ejercicio de pair programming anterior.\n",
    "# El objetivo de este ejercicio es agrupar los datos para contestar las siguientes preguntas:"
   ]
  },
  {
   "cell_type": "code",
   "execution_count": null,
   "metadata": {},
   "outputs": [],
   "source": [
    "# ¿Cuántos ataques hubo por país? Devuelve un dataframe."
   ]
  },
  {
   "cell_type": "code",
   "execution_count": null,
   "metadata": {},
   "outputs": [],
   "source": [
    "# 📌 NOTA Ordena los resultados de mayor a menor. Esto todavía no lo hemos visto, pero un dataframe lo podemos ordenar con .sort_values().\n",
    "#  Aquí tenéis una explicación de como hacerlo."
   ]
  },
  {
   "cell_type": "code",
   "execution_count": null,
   "metadata": {},
   "outputs": [],
   "source": [
    "# ¿Cuántos ataques ha habido por año? Devuelve un dataframe. De nuevo ordena los resultados de mayor a menor."
   ]
  },
  {
   "cell_type": "code",
   "execution_count": null,
   "metadata": {},
   "outputs": [],
   "source": [
    "\n",
    "# ¿Cuántos ataques hubo por año y sexo? Devolved un dataframe solo del año 2000 en adelante."
   ]
  },
  {
   "cell_type": "code",
   "execution_count": null,
   "metadata": {},
   "outputs": [],
   "source": [
    "# Primero extraed solo las filas que correspondan a USA, AUSTRALIA y SOUTH AFRICA. ¿Cuántos de los ataques fueron letales por sexo? Devuelve un dataframe."
   ]
  },
  {
   "cell_type": "code",
   "execution_count": null,
   "metadata": {},
   "outputs": [],
   "source": [
    "\n",
    "# Usando el dataframe creado en el ejercicio anterior. ¿En que pais hubo más ataques?"
   ]
  },
  {
   "cell_type": "code",
   "execution_count": null,
   "metadata": {},
   "outputs": [],
   "source": [
    "# ¿Qué y cuántos tipos de ataques hubo por pais?"
   ]
  }
 ],
 "metadata": {
  "interpreter": {
   "hash": "a2a25da4702e7ca1aacc8a7d4e81059851e19fd1060402175b35fae4c2a518e8"
  },
  "kernelspec": {
   "display_name": "Python 3.9.7 ('base')",
   "language": "python",
   "name": "python3"
  },
  "language_info": {
   "name": "python",
   "version": "3.9.7"
  },
  "orig_nbformat": 4
 },
 "nbformat": 4,
 "nbformat_minor": 2
}
