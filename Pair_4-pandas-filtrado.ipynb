{
 "cells": [
  {
   "cell_type": "code",
   "execution_count": null,
   "metadata": {},
   "outputs": [],
   "source": [
    "# Cargad el csv que guardasteis ayer.\n",
    "\n",
    "# Eliminar todos los nulos del dataframe dropna() de pandas. \n",
    "# df = df.dropna(inplace = True)\n",
    "\n"
   ]
  },
  {
   "cell_type": "code",
   "execution_count": null,
   "metadata": {},
   "outputs": [],
   "source": [
    "# ¿Cuál es el número de ataques que se han producido en Estados Unidos?\n",
    "# ¿Y en España?"
   ]
  },
  {
   "cell_type": "code",
   "execution_count": null,
   "metadata": {},
   "outputs": [],
   "source": [
    "# 3.1 ¿En qué regiones se han producido los ataques?\n",
    "# 3.2 ¿Cuántos ataques se han producido en cada área?"
   ]
  },
  {
   "cell_type": "code",
   "execution_count": null,
   "metadata": {},
   "outputs": [],
   "source": [
    "# Extrae un dataframe nuevo con los ataques que se han producido en Australia y Estados Unidos. 📌 Nota Este ejercicio se puede resolver usando dos condiciones de filtrado o usando el método isin(). Hacedlo con ambas herramientas.\n",
    "# 4.1 ¿Cuántos ataques se han producido en cada pais?\n",
    "# 4.2 ¿Ha habido ataques en Australia a gente que estuviera remando (lo encontrareis como Paddling en el dataframe en la columna activity)?\n",
    "# 4.3 ¿Cuántos ataques se han producido en Australia antes del 2000?\n",
    "# 4.4 ¿Y después del 2000?"
   ]
  },
  {
   "cell_type": "code",
   "execution_count": null,
   "metadata": {},
   "outputs": [],
   "source": [
    "# Extraed unicamente los ataques a mujeres.\n",
    "\n",
    "\n",
    "# ¿Cuántas mujeres fueron atacadas en España?\n",
    "\n",
    "\n"
   ]
  },
  {
   "cell_type": "code",
   "execution_count": null,
   "metadata": {},
   "outputs": [],
   "source": [
    "# 7. Extraed los ataques que se hayan producido en el año 2000, 1997 y 2006. Utilizad el método isin() para resolver este ejercicio.\n",
    "# 8. Si extraemos los valores únicos de la columna species nos podemos dar cuenta que esta un poco sucia y extraer informacion útil de la misma. En este ejercicio tendréis que extraer los ataques que han ocurrido por tiburón blanco (lo encontraremos en la columna species como algo que contenga white o White). Usad el método str.contains() para resolver este ejercicio.\n",
    "# 9. Extraed ahora los ataques por tiburón blanco o tigre. Utilizad el método str.contains() para resolver este ejercicio.\n",
    "# 10 . Utilizando la columna de year cread una nueva columna llamada siglo que siglo-XX o siglo-XXI. Donde el año sea menor que 2000 pondremos siglo-XX y el resto de los años siglo-XXI."
   ]
  }
 ],
 "metadata": {
  "interpreter": {
   "hash": "a2a25da4702e7ca1aacc8a7d4e81059851e19fd1060402175b35fae4c2a518e8"
  },
  "kernelspec": {
   "display_name": "Python 3.9.7 ('base')",
   "language": "python",
   "name": "python3"
  },
  "language_info": {
   "name": "python",
   "version": "3.9.7"
  },
  "orig_nbformat": 4
 },
 "nbformat": 4,
 "nbformat_minor": 2
}
