{
 "cells": [
  {
   "cell_type": "code",
   "execution_count": 34,
   "metadata": {},
   "outputs": [
    {
     "name": "stdout",
     "output_type": "stream",
     "text": [
      "Este es el tamaño del array 4\n",
      "Esta es la dimensión del array 1\n",
      "Este es el tipo de array int64\n",
      "Esta es la forma del array (4,)\n",
      "Este es el tamaño del array 6\n",
      "Esta es la dimensión del array 2\n",
      "Este es el tipo de array int64\n",
      "Esta es la forma del array (2, 3)\n",
      "Este es el tamaño del array 30\n",
      "Esta es la dimensión del array 3\n",
      "Este es el tipo de array int64\n",
      "Esta es la forma del array (2, 3, 5)\n",
      "Esta es la suma de matrices \n",
      " [[2. 0. 0.]\n",
      " [0. 2. 0.]\n",
      " [0. 0. 2.]]\n",
      "Esta es la matriz multiplicada \n",
      " [[1. 0. 0.]\n",
      " [0. 1. 0.]\n",
      " [0. 0. 1.]]\n",
      "Esta es la división de las matrices \n",
      " [[ 1. nan nan]\n",
      " [nan  1. nan]\n",
      " [nan nan  1.]]\n"
     ]
    },
    {
     "name": "stderr",
     "output_type": "stream",
     "text": [
      "/var/folders/cc/w29nscnn2p75y27g1lx9hz000000gn/T/ipykernel_69635/2978649803.py:47: RuntimeWarning: invalid value encountered in true_divide\n",
      "  division = array6 / array4\n"
     ]
    }
   ],
   "source": [
    "import numpy as np\n",
    "#1 crear 3 arrays\n",
    "#unidimensional\n",
    "lista1 = [7,2,4,3]\n",
    "array1 = np.array(lista1)\n",
    "\n",
    "#bidimensional\n",
    "array2 = np.random.randint(0,50, (2,3))\n",
    "\n",
    "#multidimensional\n",
    "array3 = np.random.randint(0,50, (2,3,5))\n",
    "\n",
    "#2 propiedades básicas en una función\n",
    "def propiedades():\n",
    "    lista_arrays = [array1, array2, array3]\n",
    "    for propiedad in lista_arrays:\n",
    "        print('Este es el tamaño del array', propiedad.size)\n",
    "        print('Esta es la dimensión del array', propiedad.ndim)\n",
    "        print('Este es el tipo de array', propiedad.dtype)\n",
    "        print('Esta es la forma del array', propiedad.shape)\n",
    "\n",
    "propiedades()\n",
    "\n",
    "#3 matriz identidad de 3 filas x 3 columnas\n",
    "array4 = np.eye(3,3)\n",
    "array4\n",
    "\n",
    "#4 matriz de tres dimensiones de 1 = matriz de 3 dimensiones del 1er ejercicio\n",
    "array5 = np.ones_like(array3)\n",
    "array5\n",
    "\n",
    "#5 operaciones\n",
    "# suma = array4 + array2\n",
    "# print(suma)\n",
    "# No se puede sumar porque no tienen el mismo nº de filas\n",
    "\n",
    "# suma 2\n",
    "array6 = np.eye(3,3)\n",
    "suma = array6 + array4\n",
    "print('Esta es la suma de matrices \\n',suma)\n",
    "\n",
    "# multiplicar matriz identidad x matriz del ejercicio anterior\n",
    "multiplicacion = array6 * array4\n",
    "print('Esta es la matriz multiplicada \\n', multiplicacion)\n",
    "\n",
    "# división de las matrices\n",
    "division = array6 / array4\n",
    "print('Esta es la división de las matrices \\n', division)\n"
   ]
  }
 ],
 "metadata": {
  "interpreter": {
   "hash": "9df72549cec875d35faaa50875d444b10c11452b268975a17c9dc6870f43870f"
  },
  "kernelspec": {
   "display_name": "Python 3.9.7 ('base')",
   "language": "python",
   "name": "python3"
  },
  "language_info": {
   "codemirror_mode": {
    "name": "ipython",
    "version": 3
   },
   "file_extension": ".py",
   "mimetype": "text/x-python",
   "name": "python",
   "nbconvert_exporter": "python",
   "pygments_lexer": "ipython3",
   "version": "3.9.7"
  },
  "orig_nbformat": 4
 },
 "nbformat": 4,
 "nbformat_minor": 2
}
